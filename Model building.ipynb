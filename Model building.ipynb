{
 "cells": [
  {
   "cell_type": "code",
   "execution_count": null,
   "id": "a925b403",
   "metadata": {},
   "outputs": [],
   "source": [
    "pip install xg"
   ]
  },
  {
   "cell_type": "code",
   "execution_count": 2,
   "id": "f782de55",
   "metadata": {},
   "outputs": [],
   "source": [
    "import pickle"
   ]
  },
  {
   "cell_type": "code",
   "execution_count": 2,
   "id": "a5bf79ba",
   "metadata": {},
   "outputs": [],
   "source": [
    "import pandas as pd\n",
    "import matplotlib.pyplot as plt\n",
    "import numpy as np"
   ]
  },
  {
   "cell_type": "code",
   "execution_count": 3,
   "id": "3650ef51",
   "metadata": {},
   "outputs": [
    {
     "data": {
      "text/html": [
       "<div>\n",
       "<style scoped>\n",
       "    .dataframe tbody tr th:only-of-type {\n",
       "        vertical-align: middle;\n",
       "    }\n",
       "\n",
       "    .dataframe tbody tr th {\n",
       "        vertical-align: top;\n",
       "    }\n",
       "\n",
       "    .dataframe thead th {\n",
       "        text-align: right;\n",
       "    }\n",
       "</style>\n",
       "<table border=\"1\" class=\"dataframe\">\n",
       "  <thead>\n",
       "    <tr style=\"text-align: right;\">\n",
       "      <th></th>\n",
       "      <th>airlines</th>\n",
       "      <th>Date</th>\n",
       "      <th>Month</th>\n",
       "      <th>Weekday</th>\n",
       "      <th>depr_Citie</th>\n",
       "      <th>Ar_Citie</th>\n",
       "      <th>Travel_Time</th>\n",
       "      <th>no_stops</th>\n",
       "      <th>Price</th>\n",
       "      <th>avg_Price</th>\n",
       "      <th>min_Price</th>\n",
       "      <th>Dep_Time_hr</th>\n",
       "      <th>Dep_Time_min</th>\n",
       "      <th>Ar_Time_hr</th>\n",
       "      <th>Ar_Time_min</th>\n",
       "      <th>time_differ_min</th>\n",
       "    </tr>\n",
       "  </thead>\n",
       "  <tbody>\n",
       "    <tr>\n",
       "      <th>0</th>\n",
       "      <td>IndiGo</td>\n",
       "      <td>1</td>\n",
       "      <td>1</td>\n",
       "      <td>5</td>\n",
       "      <td>jaipur</td>\n",
       "      <td>Bengaluru</td>\n",
       "      <td>155</td>\n",
       "      <td>0</td>\n",
       "      <td>7203</td>\n",
       "      <td>7911.4</td>\n",
       "      <td>6203</td>\n",
       "      <td>5</td>\n",
       "      <td>15</td>\n",
       "      <td>7</td>\n",
       "      <td>50</td>\n",
       "      <td>2237</td>\n",
       "    </tr>\n",
       "    <tr>\n",
       "      <th>1</th>\n",
       "      <td>IndiGo</td>\n",
       "      <td>1</td>\n",
       "      <td>1</td>\n",
       "      <td>5</td>\n",
       "      <td>jaipur</td>\n",
       "      <td>Bengaluru</td>\n",
       "      <td>160</td>\n",
       "      <td>0</td>\n",
       "      <td>7679</td>\n",
       "      <td>7911.4</td>\n",
       "      <td>6203</td>\n",
       "      <td>22</td>\n",
       "      <td>20</td>\n",
       "      <td>1</td>\n",
       "      <td>0</td>\n",
       "      <td>3262</td>\n",
       "    </tr>\n",
       "    <tr>\n",
       "      <th>2</th>\n",
       "      <td>IndiGo</td>\n",
       "      <td>1</td>\n",
       "      <td>1</td>\n",
       "      <td>5</td>\n",
       "      <td>jaipur</td>\n",
       "      <td>Bengaluru</td>\n",
       "      <td>345</td>\n",
       "      <td>1</td>\n",
       "      <td>7688</td>\n",
       "      <td>7911.4</td>\n",
       "      <td>6203</td>\n",
       "      <td>4</td>\n",
       "      <td>50</td>\n",
       "      <td>10</td>\n",
       "      <td>35</td>\n",
       "      <td>2212</td>\n",
       "    </tr>\n",
       "    <tr>\n",
       "      <th>3</th>\n",
       "      <td>IndiGo</td>\n",
       "      <td>1</td>\n",
       "      <td>1</td>\n",
       "      <td>5</td>\n",
       "      <td>jaipur</td>\n",
       "      <td>Bengaluru</td>\n",
       "      <td>380</td>\n",
       "      <td>1</td>\n",
       "      <td>7736</td>\n",
       "      <td>7911.4</td>\n",
       "      <td>6203</td>\n",
       "      <td>14</td>\n",
       "      <td>15</td>\n",
       "      <td>20</td>\n",
       "      <td>35</td>\n",
       "      <td>2777</td>\n",
       "    </tr>\n",
       "    <tr>\n",
       "      <th>4</th>\n",
       "      <td>IndiGo</td>\n",
       "      <td>1</td>\n",
       "      <td>1</td>\n",
       "      <td>5</td>\n",
       "      <td>jaipur</td>\n",
       "      <td>Bengaluru</td>\n",
       "      <td>405</td>\n",
       "      <td>1</td>\n",
       "      <td>7946</td>\n",
       "      <td>7911.4</td>\n",
       "      <td>6203</td>\n",
       "      <td>14</td>\n",
       "      <td>10</td>\n",
       "      <td>20</td>\n",
       "      <td>55</td>\n",
       "      <td>2772</td>\n",
       "    </tr>\n",
       "  </tbody>\n",
       "</table>\n",
       "</div>"
      ],
      "text/plain": [
       "  airlines  Date  Month  Weekday depr_Citie   Ar_Citie  Travel_Time  no_stops  \\\n",
       "0   IndiGo     1      1        5     jaipur  Bengaluru          155         0   \n",
       "1   IndiGo     1      1        5     jaipur  Bengaluru          160         0   \n",
       "2   IndiGo     1      1        5     jaipur  Bengaluru          345         1   \n",
       "3   IndiGo     1      1        5     jaipur  Bengaluru          380         1   \n",
       "4   IndiGo     1      1        5     jaipur  Bengaluru          405         1   \n",
       "\n",
       "   Price  avg_Price  min_Price  Dep_Time_hr  Dep_Time_min  Ar_Time_hr  \\\n",
       "0   7203     7911.4       6203            5            15           7   \n",
       "1   7679     7911.4       6203           22            20           1   \n",
       "2   7688     7911.4       6203            4            50          10   \n",
       "3   7736     7911.4       6203           14            15          20   \n",
       "4   7946     7911.4       6203           14            10          20   \n",
       "\n",
       "   Ar_Time_min  time_differ_min  \n",
       "0           50             2237  \n",
       "1            0             3262  \n",
       "2           35             2212  \n",
       "3           35             2777  \n",
       "4           55             2772  "
      ]
     },
     "execution_count": 3,
     "metadata": {},
     "output_type": "execute_result"
    }
   ],
   "source": [
    "df = pd.read_excel(\"Flight_new_Data.xls\")\n",
    "df.head()"
   ]
  },
  {
   "cell_type": "code",
   "execution_count": 4,
   "id": "3b638b01",
   "metadata": {},
   "outputs": [],
   "source": [
    "df.drop(labels= ['Ar_Time_min','Ar_Time_hr', 'avg_Price', 'min_Price'], axis = 1, inplace= True)"
   ]
  },
  {
   "cell_type": "code",
   "execution_count": 5,
   "id": "d32c9e1f",
   "metadata": {},
   "outputs": [],
   "source": [
    "X = df.drop(labels= ['Price'], axis= True)\n",
    "y = df[\"Price\"]"
   ]
  },
  {
   "cell_type": "code",
   "execution_count": 6,
   "id": "cafb6ec9",
   "metadata": {},
   "outputs": [],
   "source": [
    "discrete_features = X.dtypes == int"
   ]
  },
  {
   "cell_type": "code",
   "execution_count": 7,
   "id": "5b5d055c",
   "metadata": {},
   "outputs": [],
   "source": [
    "# Let us split our dataset into train & yest\n",
    "from sklearn.model_selection import train_test_split\n",
    "X_train, X_test, y_train, y_test = train_test_split(X, y, test_size=0.2 , random_state=100)"
   ]
  },
  {
   "cell_type": "code",
   "execution_count": 8,
   "id": "f6e043f6",
   "metadata": {},
   "outputs": [
    {
     "data": {
      "text/plain": [
       "((9997, 11), (2500, 11), (9997,), (2500,))"
      ]
     },
     "execution_count": 8,
     "metadata": {},
     "output_type": "execute_result"
    }
   ],
   "source": [
    "X_train.shape, X_test.shape, y_train.shape, y_test.shape"
   ]
  },
  {
   "cell_type": "code",
   "execution_count": 9,
   "id": "e9239b81",
   "metadata": {
    "scrolled": true
   },
   "outputs": [
    {
     "name": "stdout",
     "output_type": "stream",
     "text": [
      "Glimpse of Feature variables in train dataset - x_train:\n"
     ]
    },
    {
     "data": {
      "text/html": [
       "<div>\n",
       "<style scoped>\n",
       "    .dataframe tbody tr th:only-of-type {\n",
       "        vertical-align: middle;\n",
       "    }\n",
       "\n",
       "    .dataframe tbody tr th {\n",
       "        vertical-align: top;\n",
       "    }\n",
       "\n",
       "    .dataframe thead th {\n",
       "        text-align: right;\n",
       "    }\n",
       "</style>\n",
       "<table border=\"1\" class=\"dataframe\">\n",
       "  <thead>\n",
       "    <tr style=\"text-align: right;\">\n",
       "      <th></th>\n",
       "      <th>airlines</th>\n",
       "      <th>Date</th>\n",
       "      <th>Month</th>\n",
       "      <th>Weekday</th>\n",
       "      <th>depr_Citie</th>\n",
       "      <th>Ar_Citie</th>\n",
       "      <th>Travel_Time</th>\n",
       "      <th>no_stops</th>\n",
       "      <th>Dep_Time_hr</th>\n",
       "      <th>Dep_Time_min</th>\n",
       "      <th>time_differ_min</th>\n",
       "    </tr>\n",
       "  </thead>\n",
       "  <tbody>\n",
       "    <tr>\n",
       "      <th>1850</th>\n",
       "      <td>Air India</td>\n",
       "      <td>22</td>\n",
       "      <td>5</td>\n",
       "      <td>6</td>\n",
       "      <td>jaipur</td>\n",
       "      <td>Bengaluru</td>\n",
       "      <td>150</td>\n",
       "      <td>0</td>\n",
       "      <td>22</td>\n",
       "      <td>20</td>\n",
       "      <td>206006</td>\n",
       "    </tr>\n",
       "    <tr>\n",
       "      <th>1800</th>\n",
       "      <td>IndiGo</td>\n",
       "      <td>18</td>\n",
       "      <td>5</td>\n",
       "      <td>2</td>\n",
       "      <td>jaipur</td>\n",
       "      <td>Bengaluru</td>\n",
       "      <td>150</td>\n",
       "      <td>0</td>\n",
       "      <td>5</td>\n",
       "      <td>30</td>\n",
       "      <td>199241</td>\n",
       "    </tr>\n",
       "    <tr>\n",
       "      <th>6432</th>\n",
       "      <td>Air India</td>\n",
       "      <td>1</td>\n",
       "      <td>5</td>\n",
       "      <td>6</td>\n",
       "      <td>jaipur</td>\n",
       "      <td>new delhi</td>\n",
       "      <td>1270</td>\n",
       "      <td>2</td>\n",
       "      <td>14</td>\n",
       "      <td>0</td>\n",
       "      <td>175637</td>\n",
       "    </tr>\n",
       "    <tr>\n",
       "      <th>12453</th>\n",
       "      <td>IndiGo</td>\n",
       "      <td>28</td>\n",
       "      <td>6</td>\n",
       "      <td>1</td>\n",
       "      <td>jaipur</td>\n",
       "      <td>mumbai</td>\n",
       "      <td>595</td>\n",
       "      <td>1</td>\n",
       "      <td>21</td>\n",
       "      <td>5</td>\n",
       "      <td>260406</td>\n",
       "    </tr>\n",
       "    <tr>\n",
       "      <th>6225</th>\n",
       "      <td>GoFirst</td>\n",
       "      <td>17</td>\n",
       "      <td>4</td>\n",
       "      <td>6</td>\n",
       "      <td>jaipur</td>\n",
       "      <td>new delhi</td>\n",
       "      <td>430</td>\n",
       "      <td>1</td>\n",
       "      <td>18</td>\n",
       "      <td>45</td>\n",
       "      <td>155779</td>\n",
       "    </tr>\n",
       "  </tbody>\n",
       "</table>\n",
       "</div>"
      ],
      "text/plain": [
       "        airlines  Date  Month  Weekday depr_Citie   Ar_Citie  Travel_Time  \\\n",
       "1850   Air India    22      5        6     jaipur  Bengaluru          150   \n",
       "1800      IndiGo    18      5        2     jaipur  Bengaluru          150   \n",
       "6432   Air India     1      5        6     jaipur  new delhi         1270   \n",
       "12453     IndiGo    28      6        1     jaipur     mumbai          595   \n",
       "6225     GoFirst    17      4        6     jaipur  new delhi          430   \n",
       "\n",
       "       no_stops  Dep_Time_hr  Dep_Time_min  time_differ_min  \n",
       "1850          0           22            20           206006  \n",
       "1800          0            5            30           199241  \n",
       "6432          2           14             0           175637  \n",
       "12453         1           21             5           260406  \n",
       "6225          1           18            45           155779  "
      ]
     },
     "execution_count": 9,
     "metadata": {},
     "output_type": "execute_result"
    }
   ],
   "source": [
    "print(\"Glimpse of Feature variables in train dataset - x_train:\")\n",
    "X_train.head()"
   ]
  },
  {
   "cell_type": "code",
   "execution_count": 10,
   "id": "2e77d714",
   "metadata": {},
   "outputs": [
    {
     "data": {
      "text/plain": [
       "7"
      ]
     },
     "execution_count": 10,
     "metadata": {},
     "output_type": "execute_result"
    }
   ],
   "source": [
    "# let us select the numerical columns that need scaling\n",
    "num_col = ['Date', 'Month', 'Travel_Time',\n",
    "       'no_stops', 'Dep_Time_hr', 'Dep_Time_min', 'time_differ_min']\n",
    "len(num_col)"
   ]
  },
  {
   "cell_type": "code",
   "execution_count": 11,
   "id": "3e93dd94",
   "metadata": {},
   "outputs": [
    {
     "data": {
      "text/html": [
       "<div>\n",
       "<style scoped>\n",
       "    .dataframe tbody tr th:only-of-type {\n",
       "        vertical-align: middle;\n",
       "    }\n",
       "\n",
       "    .dataframe tbody tr th {\n",
       "        vertical-align: top;\n",
       "    }\n",
       "\n",
       "    .dataframe thead th {\n",
       "        text-align: right;\n",
       "    }\n",
       "</style>\n",
       "<table border=\"1\" class=\"dataframe\">\n",
       "  <thead>\n",
       "    <tr style=\"text-align: right;\">\n",
       "      <th></th>\n",
       "      <th>airlines</th>\n",
       "      <th>Date</th>\n",
       "      <th>Month</th>\n",
       "      <th>Weekday</th>\n",
       "      <th>depr_Citie</th>\n",
       "      <th>Ar_Citie</th>\n",
       "      <th>Travel_Time</th>\n",
       "      <th>no_stops</th>\n",
       "      <th>Dep_Time_hr</th>\n",
       "      <th>Dep_Time_min</th>\n",
       "      <th>time_differ_min</th>\n",
       "    </tr>\n",
       "  </thead>\n",
       "  <tbody>\n",
       "    <tr>\n",
       "      <th>1850</th>\n",
       "      <td>Air India</td>\n",
       "      <td>0.725405</td>\n",
       "      <td>0.874315</td>\n",
       "      <td>6</td>\n",
       "      <td>jaipur</td>\n",
       "      <td>Bengaluru</td>\n",
       "      <td>-0.711699</td>\n",
       "      <td>-1.199805</td>\n",
       "      <td>1.566054</td>\n",
       "      <td>-0.440420</td>\n",
       "      <td>1.003880</td>\n",
       "    </tr>\n",
       "    <tr>\n",
       "      <th>1800</th>\n",
       "      <td>IndiGo</td>\n",
       "      <td>0.266208</td>\n",
       "      <td>0.874315</td>\n",
       "      <td>2</td>\n",
       "      <td>jaipur</td>\n",
       "      <td>Bengaluru</td>\n",
       "      <td>-0.711699</td>\n",
       "      <td>-1.199805</td>\n",
       "      <td>-1.611204</td>\n",
       "      <td>0.177181</td>\n",
       "      <td>0.913610</td>\n",
       "    </tr>\n",
       "    <tr>\n",
       "      <th>6432</th>\n",
       "      <td>Air India</td>\n",
       "      <td>-1.685381</td>\n",
       "      <td>0.874315</td>\n",
       "      <td>6</td>\n",
       "      <td>jaipur</td>\n",
       "      <td>new delhi</td>\n",
       "      <td>2.152915</td>\n",
       "      <td>2.575596</td>\n",
       "      <td>0.070874</td>\n",
       "      <td>-1.675621</td>\n",
       "      <td>0.598645</td>\n",
       "    </tr>\n",
       "    <tr>\n",
       "      <th>12453</th>\n",
       "      <td>IndiGo</td>\n",
       "      <td>1.414201</td>\n",
       "      <td>1.459866</td>\n",
       "      <td>1</td>\n",
       "      <td>jaipur</td>\n",
       "      <td>mumbai</td>\n",
       "      <td>0.426473</td>\n",
       "      <td>0.687896</td>\n",
       "      <td>1.379157</td>\n",
       "      <td>-1.366821</td>\n",
       "      <td>1.729777</td>\n",
       "    </tr>\n",
       "    <tr>\n",
       "      <th>6225</th>\n",
       "      <td>GoFirst</td>\n",
       "      <td>0.151408</td>\n",
       "      <td>0.288763</td>\n",
       "      <td>6</td>\n",
       "      <td>jaipur</td>\n",
       "      <td>new delhi</td>\n",
       "      <td>0.004454</td>\n",
       "      <td>0.687896</td>\n",
       "      <td>0.818464</td>\n",
       "      <td>1.103582</td>\n",
       "      <td>0.333666</td>\n",
       "    </tr>\n",
       "  </tbody>\n",
       "</table>\n",
       "</div>"
      ],
      "text/plain": [
       "        airlines      Date     Month  Weekday depr_Citie   Ar_Citie  \\\n",
       "1850   Air India  0.725405  0.874315        6     jaipur  Bengaluru   \n",
       "1800      IndiGo  0.266208  0.874315        2     jaipur  Bengaluru   \n",
       "6432   Air India -1.685381  0.874315        6     jaipur  new delhi   \n",
       "12453     IndiGo  1.414201  1.459866        1     jaipur     mumbai   \n",
       "6225     GoFirst  0.151408  0.288763        6     jaipur  new delhi   \n",
       "\n",
       "       Travel_Time  no_stops  Dep_Time_hr  Dep_Time_min  time_differ_min  \n",
       "1850     -0.711699 -1.199805     1.566054     -0.440420         1.003880  \n",
       "1800     -0.711699 -1.199805    -1.611204      0.177181         0.913610  \n",
       "6432      2.152915  2.575596     0.070874     -1.675621         0.598645  \n",
       "12453     0.426473  0.687896     1.379157     -1.366821         1.729777  \n",
       "6225      0.004454  0.687896     0.818464      1.103582         0.333666  "
      ]
     },
     "execution_count": 11,
     "metadata": {},
     "output_type": "execute_result"
    }
   ],
   "source": [
    "\n",
    "# Import the StandardScaler()\n",
    "from sklearn.preprocessing import StandardScaler\n",
    "\n",
    "## Scaling the train and test data\n",
    "sc = StandardScaler()\n",
    "X_train[num_col] = sc.fit_transform(X_train[num_col])\n",
    "X_test[num_col] = sc.transform(X_test[num_col])\n",
    "X_train.head()"
   ]
  },
  {
   "cell_type": "code",
   "execution_count": 12,
   "id": "1be4357e",
   "metadata": {},
   "outputs": [],
   "source": [
    "from sklearn.preprocessing import OneHotEncoder\n",
    "\n",
    "ohe = OneHotEncoder(drop='first', sparse=False, dtype=np.int32)"
   ]
  },
  {
   "cell_type": "code",
   "execution_count": 13,
   "id": "5898ffc3",
   "metadata": {},
   "outputs": [],
   "source": [
    "X_train_ohe = ohe.fit_transform(X_train[['airlines', 'depr_Citie', 'Ar_Citie', 'Weekday']])\n",
    "X_test_ohe = ohe.transform(X_test[['airlines', 'depr_Citie', 'Ar_Citie', 'Weekday']])"
   ]
  },
  {
   "cell_type": "code",
   "execution_count": 14,
   "id": "9ad8d2cf",
   "metadata": {},
   "outputs": [
    {
     "data": {
      "text/plain": [
       "array([[0, 0, 0, ..., 0, 0, 1],\n",
       "       [0, 0, 1, ..., 0, 0, 0],\n",
       "       [0, 0, 0, ..., 0, 0, 1],\n",
       "       ...,\n",
       "       [0, 0, 1, ..., 1, 0, 0],\n",
       "       [0, 0, 1, ..., 0, 1, 0],\n",
       "       [0, 1, 0, ..., 0, 0, 0]])"
      ]
     },
     "execution_count": 14,
     "metadata": {},
     "output_type": "execute_result"
    }
   ],
   "source": [
    "X_train_ohe"
   ]
  },
  {
   "cell_type": "code",
   "execution_count": 15,
   "id": "503e0f2a",
   "metadata": {},
   "outputs": [
    {
     "data": {
      "text/plain": [
       "array([[ 0.72540521,  0.87431495, -0.71169931, ...,  1.56605421,\n",
       "        -0.44041976,  1.00387984],\n",
       "       [ 0.26620775,  0.87431495, -0.71169931, ..., -1.6112035 ,\n",
       "         0.17718107,  0.91360977],\n",
       "       [-1.68538146,  0.87431495,  2.15291503, ...,  0.07087411,\n",
       "        -1.67562143,  0.59864529],\n",
       "       ...,\n",
       "       [ 1.06980331, -0.88233941, -0.17458412, ..., -1.79810102,\n",
       "         0.17718107, -0.79805222],\n",
       "       [-1.34098337,  1.4598664 , -0.95467999, ..., -1.23740848,\n",
       "         0.48598149,  1.24625465],\n",
       "       [-0.76698654, -0.29678796, -0.02112264, ..., -1.05051097,\n",
       "         1.10358233, -0.42310784]])"
      ]
     },
     "execution_count": 15,
     "metadata": {},
     "output_type": "execute_result"
    }
   ],
   "source": [
    "X_train[num_col].values"
   ]
  },
  {
   "cell_type": "code",
   "execution_count": 16,
   "id": "a92754c5",
   "metadata": {},
   "outputs": [],
   "source": [
    "X_train_new = np.hstack((X_train[num_col].values, X_train_ohe))\n",
    "X_test_new = np.hstack((X_test[num_col].values, X_test_ohe))"
   ]
  },
  {
   "cell_type": "markdown",
   "id": "88a2af50",
   "metadata": {},
   "source": [
    "## Model building"
   ]
  },
  {
   "cell_type": "markdown",
   "id": "71e319d6",
   "metadata": {},
   "source": [
    "<a id='m7'></a>\n",
    "### <a> Model 1- DecisionTreeRegressor"
   ]
  },
  {
   "cell_type": "code",
   "execution_count": 17,
   "id": "6209567e",
   "metadata": {},
   "outputs": [],
   "source": [
    "from sklearn.model_selection import KFold"
   ]
  },
  {
   "cell_type": "code",
   "execution_count": 18,
   "id": "849f498e",
   "metadata": {},
   "outputs": [],
   "source": [
    "from sklearn.model_selection import RandomizedSearchCV"
   ]
  },
  {
   "cell_type": "code",
   "execution_count": 19,
   "id": "aa6fd0a4",
   "metadata": {
    "id": "29LcomWo0Xvx"
   },
   "outputs": [],
   "source": [
    "from sklearn.tree import DecisionTreeRegressor\n",
    "#Training the Model with default parameters\n",
    "dtree = DecisionTreeRegressor(random_state = 1)\n",
    "params = {\"criterion\": [\"mse\", \"friedman_mse\", \"mae\", \"poisson\"],\n",
    "          \"min_samples_split\": [6,7,8,9,10],\n",
    "            \"max_depth\" : [12,13,14,15,16,17]\n",
    "         }\n",
    "  \n",
    "# create 5 folds\n",
    "folds = KFold(n_splits = 5, shuffle = True, random_state = 3)\n",
    "\n",
    "dtree_model = RandomizedSearchCV(estimator=dtree, cv=folds, param_distributions=params, scoring='neg_mean_squared_error', n_jobs=-1, verbose=1,\n",
    "                                return_train_score = True, random_state=42)"
   ]
  },
  {
   "cell_type": "code",
   "execution_count": 20,
   "id": "98e90e1c",
   "metadata": {
    "id": "kSG1alvf0Xvx",
    "outputId": "f52e0a29-f967-417c-8547-17dc16ab39dc",
    "scrolled": true
   },
   "outputs": [
    {
     "name": "stdout",
     "output_type": "stream",
     "text": [
      "Fitting 5 folds for each of 10 candidates, totalling 50 fits\n"
     ]
    },
    {
     "name": "stderr",
     "output_type": "stream",
     "text": [
      "C:\\Users\\HP\\anaconda3\\lib\\site-packages\\sklearn\\tree\\_classes.py:366: FutureWarning: Criterion 'mae' was deprecated in v1.0 and will be removed in version 1.2. Use `criterion='absolute_error'` which is equivalent.\n",
      "  warnings.warn(\n"
     ]
    },
    {
     "data": {
      "text/plain": [
       "RandomizedSearchCV(cv=KFold(n_splits=5, random_state=3, shuffle=True),\n",
       "                   estimator=DecisionTreeRegressor(random_state=1), n_jobs=-1,\n",
       "                   param_distributions={'criterion': ['mse', 'friedman_mse',\n",
       "                                                      'mae', 'poisson'],\n",
       "                                        'max_depth': [12, 13, 14, 15, 16, 17],\n",
       "                                        'min_samples_split': [6, 7, 8, 9, 10]},\n",
       "                   random_state=42, return_train_score=True,\n",
       "                   scoring='neg_mean_squared_error', verbose=1)"
      ]
     },
     "execution_count": 20,
     "metadata": {},
     "output_type": "execute_result"
    }
   ],
   "source": [
    "dtree_model.fit(X_train_new,y_train)"
   ]
  },
  {
   "cell_type": "code",
   "execution_count": 21,
   "id": "847710d2",
   "metadata": {},
   "outputs": [
    {
     "data": {
      "text/plain": [
       "DecisionTreeRegressor(criterion='mae', max_depth=12, min_samples_split=10,\n",
       "                      random_state=1)"
      ]
     },
     "execution_count": 21,
     "metadata": {},
     "output_type": "execute_result"
    }
   ],
   "source": [
    "dtree_model.best_estimator_"
   ]
  },
  {
   "cell_type": "code",
   "execution_count": 22,
   "id": "219f6f81",
   "metadata": {},
   "outputs": [],
   "source": [
    "dtree = DecisionTreeRegressor(criterion= 'mae', max_depth=12, min_samples_split=10, random_state = 42)"
   ]
  },
  {
   "cell_type": "code",
   "execution_count": 23,
   "id": "9520a6a1",
   "metadata": {},
   "outputs": [
    {
     "name": "stderr",
     "output_type": "stream",
     "text": [
      "C:\\Users\\HP\\anaconda3\\lib\\site-packages\\sklearn\\tree\\_classes.py:366: FutureWarning: Criterion 'mae' was deprecated in v1.0 and will be removed in version 1.2. Use `criterion='absolute_error'` which is equivalent.\n",
      "  warnings.warn(\n"
     ]
    },
    {
     "data": {
      "text/plain": [
       "DecisionTreeRegressor(criterion='mae', max_depth=12, min_samples_split=10,\n",
       "                      random_state=42)"
      ]
     },
     "execution_count": 23,
     "metadata": {},
     "output_type": "execute_result"
    }
   ],
   "source": [
    "dtree.fit(X_train_new,y_train)"
   ]
  },
  {
   "cell_type": "code",
   "execution_count": 24,
   "id": "f9081b22",
   "metadata": {},
   "outputs": [
    {
     "data": {
      "text/plain": [
       "0.014334794356607894"
      ]
     },
     "execution_count": 24,
     "metadata": {},
     "output_type": "execute_result"
    }
   ],
   "source": [
    "dtree.score(X_train_new,y_train)"
   ]
  },
  {
   "cell_type": "code",
   "execution_count": 25,
   "id": "c64b291e",
   "metadata": {},
   "outputs": [
    {
     "data": {
      "text/plain": [
       "-0.03681812381918026"
      ]
     },
     "execution_count": 25,
     "metadata": {},
     "output_type": "execute_result"
    }
   ],
   "source": [
    "dtree.score(X_test_new,y_test)"
   ]
  },
  {
   "cell_type": "code",
   "execution_count": 26,
   "id": "fc700faa",
   "metadata": {
    "id": "MSotchLu0Xvx"
   },
   "outputs": [],
   "source": [
    "y_train_pred = dtree_model.predict(X_train_new)\n",
    "y_test_pred = dtree_model.predict(X_test_new)"
   ]
  },
  {
   "cell_type": "code",
   "execution_count": 27,
   "id": "ec628ee0",
   "metadata": {},
   "outputs": [],
   "source": [
    "from sklearn.metrics import mean_absolute_error, r2_score, mean_squared_error"
   ]
  },
  {
   "cell_type": "code",
   "execution_count": 28,
   "id": "87024072",
   "metadata": {
    "id": "zzkLKmUE0Xvx"
   },
   "outputs": [],
   "source": [
    "train_mae = round(mean_absolute_error(y_train.values, y_train_pred),3)\n",
    "train_r2 = round(r2_score(y_train.values, y_train_pred),3)\n",
    "\n",
    "\n",
    "test_mae = round(mean_absolute_error(y_test.values, y_test_pred),3)\n",
    "test_r2 = round(r2_score(y_test.values, y_test_pred),3)"
   ]
  },
  {
   "cell_type": "code",
   "execution_count": 29,
   "id": "f646f717",
   "metadata": {},
   "outputs": [],
   "source": [
    "from math import sqrt"
   ]
  },
  {
   "cell_type": "code",
   "execution_count": 30,
   "id": "29bdb698",
   "metadata": {
    "id": "feVyY-WM0Xvx",
    "outputId": "058396d5-f98c-485e-a6ca-b3f7cbeb7129",
    "scrolled": false
   },
   "outputs": [
    {
     "name": "stdout",
     "output_type": "stream",
     "text": [
      "Train Results for Decision Tree Regressor Model:\n",
      "--------------------------------------------------\n",
      "Root mean squared error:  22448.628\n",
      "Mean absolute error:  3028.335\n",
      "Mean squared error:  503940891.214\n",
      "R-squared:  0.016\n"
     ]
    }
   ],
   "source": [
    "print(\"Train Results for Decision Tree Regressor Model:\")\n",
    "print(50 * '-')\n",
    "print(\"Root mean squared error: \", round(sqrt(mean_squared_error(y_train.values, y_train_pred)),3))\n",
    "print(\"Mean absolute error: \",train_mae)\n",
    "print(\"Mean squared error: \",round(mean_squared_error(y_train.values, y_train_pred),3))\n",
    "print(\"R-squared: \", train_r2)"
   ]
  },
  {
   "cell_type": "code",
   "execution_count": 31,
   "id": "58914a90",
   "metadata": {
    "id": "6695lXiE0Xvx",
    "outputId": "8da548df-83cf-4414-ac5c-e74ffc3fcfbb",
    "scrolled": true
   },
   "outputs": [
    {
     "name": "stdout",
     "output_type": "stream",
     "text": [
      "Test Results for Decision Tree Regressor Model:\n",
      "--------------------------------------------------\n",
      "Root mean squared error:  31187.213\n",
      "Mean absolute error:  4383.657\n",
      "Mean squared error:  972642285.806\n",
      "R-squared:  -0.04\n"
     ]
    }
   ],
   "source": [
    "print(\"Test Results for Decision Tree Regressor Model:\")\n",
    "print(50 * '-')\n",
    "print(\"Root mean squared error: \", round(sqrt(mean_squared_error(y_test.values, y_test_pred)),3))\n",
    "print(\"Mean absolute error: \",test_mae)\n",
    "print(\"Mean squared error: \",round(mean_squared_error(y_test.values, y_test_pred),3))\n",
    "print(\"R-squared: \", test_r2)"
   ]
  },
  {
   "cell_type": "markdown",
   "id": "854ffd5f",
   "metadata": {
    "id": "XzKhhScV0XwB"
   },
   "source": [
    "<a id='m7'></a>\n",
    "### <a> Model 2- XGBoost Regression"
   ]
  },
  {
   "cell_type": "code",
   "execution_count": 32,
   "id": "33c84e45",
   "metadata": {
    "id": "ipd6-LCk0XwB"
   },
   "outputs": [],
   "source": [
    "from sklearn.model_selection import RandomizedSearchCV\n",
    "from sklearn.model_selection import KFold\n",
    "import xgboost\n",
    "\n",
    "xgb = xgboost.XGBRegressor(random_state=42,n_estimators=120)\n",
    "\n",
    "params = {\n",
    "    \"gamma\": [21,22],\n",
    "        \"max_depth\": [8,10],\n",
    "#         \"learning_rate\": [0.1,0.2],\n",
    "#         \"n_estimators\": [60],\n",
    "#         \"max_depth\": [13,14,15,16],\n",
    "        \"learning_rate\": [0.17,0.18,0.19,0.2],\n",
    "        \"child_weight\": [23,24],\n",
    "      }\n",
    "# max_depth, min_child_weight and gamma.\n",
    "\n",
    "# create 5 folds\n",
    "folds = KFold(n_splits = 5, shuffle = True, random_state = 4)\n",
    "\n",
    "xgb_model = RandomizedSearchCV(estimator=xgb, param_distributions=params, cv=folds, scoring = 'neg_mean_absolute_error',n_jobs = -1, \n",
    "                               verbose = 1, return_train_score = True, random_state=42)\n",
    "\n",
    "# n_iter=50, "
   ]
  },
  {
   "cell_type": "code",
   "execution_count": 33,
   "id": "07e17efa",
   "metadata": {
    "id": "_0gpF_nv0XwB",
    "outputId": "1a03fed4-d9cb-4501-cf3d-6ad91bc3de83",
    "scrolled": false
   },
   "outputs": [
    {
     "name": "stdout",
     "output_type": "stream",
     "text": [
      "Fitting 5 folds for each of 10 candidates, totalling 50 fits\n",
      "[15:05:53] WARNING: ..\\src\\learner.cc:541: \n",
      "Parameters: { child_weight } might not be used.\n",
      "\n",
      "  This may not be accurate due to some parameters are only used in language bindings but\n",
      "  passed down to XGBoost core.  Or some parameters are not used but slip through this\n",
      "  verification. Please open an issue if you find above cases.\n",
      "\n",
      "\n"
     ]
    },
    {
     "data": {
      "text/plain": [
       "RandomizedSearchCV(cv=KFold(n_splits=5, random_state=4, shuffle=True),\n",
       "                   estimator=XGBRegressor(base_score=None, booster=None,\n",
       "                                          colsample_bylevel=None,\n",
       "                                          colsample_bynode=None,\n",
       "                                          colsample_bytree=None, gamma=None,\n",
       "                                          gpu_id=None, importance_type='gain',\n",
       "                                          interaction_constraints=None,\n",
       "                                          learning_rate=None,\n",
       "                                          max_delta_step=None, max_depth=None,\n",
       "                                          min_child_weight=None, missing=nan,...\n",
       "                                          random_state=42, reg_alpha=None,\n",
       "                                          reg_lambda=None,\n",
       "                                          scale_pos_weight=None, subsample=None,\n",
       "                                          tree_method=None,\n",
       "                                          validate_parameters=None,\n",
       "                                          verbosity=None),\n",
       "                   n_jobs=-1,\n",
       "                   param_distributions={'child_weight': [23, 24],\n",
       "                                        'gamma': [21, 22],\n",
       "                                        'learning_rate': [0.17, 0.18, 0.19,\n",
       "                                                          0.2],\n",
       "                                        'max_depth': [8, 10]},\n",
       "                   random_state=42, return_train_score=True,\n",
       "                   scoring='neg_mean_absolute_error', verbose=1)"
      ]
     },
     "execution_count": 33,
     "metadata": {},
     "output_type": "execute_result"
    }
   ],
   "source": [
    "# fit model\n",
    "xgb_model.fit(X_train_new, y_train)"
   ]
  },
  {
   "cell_type": "code",
   "execution_count": 34,
   "id": "dd2997ba",
   "metadata": {
    "id": "JMotdlyj0XwB",
    "outputId": "7fbd4057-2443-46ff-9162-4c7c67bae8fb",
    "scrolled": true
   },
   "outputs": [
    {
     "data": {
      "text/plain": [
       "XGBRegressor(base_score=0.5, booster='gbtree', child_weight=24,\n",
       "             colsample_bylevel=1, colsample_bynode=1, colsample_bytree=1,\n",
       "             gamma=22, gpu_id=-1, importance_type='gain',\n",
       "             interaction_constraints='', learning_rate=0.17, max_delta_step=0,\n",
       "             max_depth=8, min_child_weight=1, missing=nan,\n",
       "             monotone_constraints='()', n_estimators=120, n_jobs=8,\n",
       "             num_parallel_tree=1, random_state=42, reg_alpha=0, reg_lambda=1,\n",
       "             scale_pos_weight=1, subsample=1, tree_method='exact',\n",
       "             validate_parameters=1, verbosity=None)"
      ]
     },
     "execution_count": 34,
     "metadata": {},
     "output_type": "execute_result"
    }
   ],
   "source": [
    "xgb_model.best_estimator_"
   ]
  },
  {
   "cell_type": "code",
   "execution_count": 35,
   "id": "123acbb7",
   "metadata": {
    "id": "NCkmzCQB0XwB"
   },
   "outputs": [],
   "source": [
    "y_train_pred = xgb_model.predict(X_train_new)\n",
    "y_test_pred = xgb_model.predict(X_test_new)"
   ]
  },
  {
   "cell_type": "code",
   "execution_count": 36,
   "id": "d4c976b6",
   "metadata": {
    "id": "TpZHXWaL0XwB"
   },
   "outputs": [],
   "source": [
    "train_mae = round(mean_absolute_error(y_train.values, y_train_pred),3)\n",
    "train_r2 = round(r2_score(y_train.values, y_train_pred),3)\n",
    "\n",
    "\n",
    "test_mae = round(mean_absolute_error(y_test.values, y_test_pred),3)\n",
    "test_r2 = round(r2_score(y_test.values, y_test_pred),3)"
   ]
  },
  {
   "cell_type": "code",
   "execution_count": 37,
   "id": "9d148afe",
   "metadata": {
    "id": "3de9cr_u0XwB",
    "outputId": "b3f904cf-38bc-4fe0-e3dd-fe8f9f1c153e",
    "scrolled": false
   },
   "outputs": [
    {
     "name": "stdout",
     "output_type": "stream",
     "text": [
      "Train Results for Xgboost Regressor Model:\n",
      "--------------------------------------------------\n",
      "Root mean squared error:  7261.434\n",
      "Mean absolute error:  2590.778\n",
      "Mean squared error:  52728420.725\n",
      "R-squared:  0.897\n"
     ]
    }
   ],
   "source": [
    "print(\"Train Results for Xgboost Regressor Model:\")\n",
    "print(50 * '-')\n",
    "print(\"Root mean squared error: \", round(sqrt(mean_squared_error(y_train.values, y_train_pred)),3))\n",
    "print(\"Mean absolute error: \",train_mae)\n",
    "print(\"Mean squared error: \",round(mean_squared_error(y_train.values, y_train_pred),3))\n",
    "print(\"R-squared: \", train_r2)"
   ]
  },
  {
   "cell_type": "code",
   "execution_count": 38,
   "id": "cfc8acfb",
   "metadata": {
    "id": "_r6_wyGi0XwB",
    "outputId": "ce6bdfa0-cb85-4680-c899-4afaf3fd8465",
    "scrolled": true
   },
   "outputs": [
    {
     "name": "stdout",
     "output_type": "stream",
     "text": [
      "Test Results for Xgboost Regressor Model:\n",
      "--------------------------------------------------\n",
      "Root mean squared error:  32141.974\n",
      "Mean absolute error:  6873.959\n",
      "Mean squared error:  1033106481.787\n",
      "R-squared:  -0.105\n"
     ]
    }
   ],
   "source": [
    "print(\"Test Results for Xgboost Regressor Model:\")\n",
    "print(50 * '-')\n",
    "print(\"Root mean squared error: \", round(sqrt(mean_squared_error(y_test.values, y_test_pred)),3))\n",
    "print(\"Mean absolute error: \",test_mae)\n",
    "print(\"Mean squared error: \",round(mean_squared_error(y_test.values, y_test_pred),3))\n",
    "print(\"R-squared: \", test_r2)"
   ]
  },
  {
   "cell_type": "markdown",
   "id": "7b822fb0",
   "metadata": {},
   "source": [
    "# DL model"
   ]
  },
  {
   "cell_type": "code",
   "execution_count": 39,
   "id": "41f62802",
   "metadata": {},
   "outputs": [],
   "source": [
    "from keras.callbacks import ModelCheckpoint\n",
    "from keras.models import Sequential\n",
    "from keras.layers import Dense, Activation, Flatten"
   ]
  },
  {
   "cell_type": "code",
   "execution_count": 40,
   "id": "e0448005",
   "metadata": {},
   "outputs": [
    {
     "name": "stdout",
     "output_type": "stream",
     "text": [
      "Model: \"sequential\"\n",
      "_________________________________________________________________\n",
      "Layer (type)                 Output Shape              Param #   \n",
      "=================================================================\n",
      "dense (Dense)                (None, 128)               3072      \n",
      "_________________________________________________________________\n",
      "dense_1 (Dense)              (None, 256)               33024     \n",
      "_________________________________________________________________\n",
      "dense_2 (Dense)              (None, 256)               65792     \n",
      "_________________________________________________________________\n",
      "dense_3 (Dense)              (None, 256)               65792     \n",
      "_________________________________________________________________\n",
      "dense_4 (Dense)              (None, 1)                 257       \n",
      "=================================================================\n",
      "Total params: 167,937\n",
      "Trainable params: 167,937\n",
      "Non-trainable params: 0\n",
      "_________________________________________________________________\n"
     ]
    }
   ],
   "source": [
    "NN_model = Sequential()\n",
    "\n",
    "# The Input Layer :\n",
    "NN_model.add(Dense(128, kernel_initializer='normal',input_dim = X_train_new.shape[1], activation='relu'))\n",
    "\n",
    "# The Hidden Layers :\n",
    "NN_model.add(Dense(256, kernel_initializer='normal',activation='relu'))\n",
    "NN_model.add(Dense(256, kernel_initializer='normal',activation='relu'))\n",
    "NN_model.add(Dense(256, kernel_initializer='normal',activation='relu'))\n",
    "\n",
    "# The Output Layer :\n",
    "NN_model.add(Dense(1, kernel_initializer='normal',activation='linear'))\n",
    "\n",
    "# Compile the network :\n",
    "NN_model.compile(loss='mean_absolute_error', optimizer='adam', metrics=['mean_absolute_error'])\n",
    "NN_model.summary()"
   ]
  },
  {
   "cell_type": "code",
   "execution_count": 41,
   "id": "508c1dbc",
   "metadata": {
    "scrolled": true
   },
   "outputs": [
    {
     "name": "stdout",
     "output_type": "stream",
     "text": [
      "Epoch 1/50\n",
      "313/313 - 18s - loss: 4063.7351 - mean_absolute_error: 4063.7351\n",
      "Epoch 2/50\n",
      "313/313 - 1s - loss: 3519.5295 - mean_absolute_error: 3519.5295\n",
      "Epoch 3/50\n",
      "313/313 - 1s - loss: 3451.7402 - mean_absolute_error: 3451.7402\n",
      "Epoch 4/50\n",
      "313/313 - 1s - loss: 3396.6011 - mean_absolute_error: 3396.6011\n",
      "Epoch 5/50\n",
      "313/313 - 1s - loss: 3372.9419 - mean_absolute_error: 3372.9419\n",
      "Epoch 6/50\n",
      "313/313 - 1s - loss: 3353.2947 - mean_absolute_error: 3353.2947\n",
      "Epoch 7/50\n",
      "313/313 - 1s - loss: 3347.9031 - mean_absolute_error: 3347.9031\n",
      "Epoch 8/50\n",
      "313/313 - 1s - loss: 3341.6934 - mean_absolute_error: 3341.6934\n",
      "Epoch 9/50\n",
      "313/313 - 1s - loss: 3339.3076 - mean_absolute_error: 3339.3076\n",
      "Epoch 10/50\n",
      "313/313 - 1s - loss: 3331.4854 - mean_absolute_error: 3331.4854\n",
      "Epoch 11/50\n",
      "313/313 - 1s - loss: 3337.0610 - mean_absolute_error: 3337.0610\n",
      "Epoch 12/50\n",
      "313/313 - 1s - loss: 3328.5796 - mean_absolute_error: 3328.5796\n",
      "Epoch 13/50\n",
      "313/313 - 1s - loss: 3326.7739 - mean_absolute_error: 3326.7739\n",
      "Epoch 14/50\n",
      "313/313 - 1s - loss: 3325.2961 - mean_absolute_error: 3325.2961\n",
      "Epoch 15/50\n",
      "313/313 - 1s - loss: 3324.0811 - mean_absolute_error: 3324.0811\n",
      "Epoch 16/50\n",
      "313/313 - 1s - loss: 3321.2329 - mean_absolute_error: 3321.2329\n",
      "Epoch 17/50\n",
      "313/313 - 1s - loss: 3318.6836 - mean_absolute_error: 3318.6836\n",
      "Epoch 18/50\n",
      "313/313 - 1s - loss: 3318.0212 - mean_absolute_error: 3318.0212\n",
      "Epoch 19/50\n",
      "313/313 - 1s - loss: 3315.7898 - mean_absolute_error: 3315.7898\n",
      "Epoch 20/50\n",
      "313/313 - 1s - loss: 3318.6311 - mean_absolute_error: 3318.6311\n",
      "Epoch 21/50\n",
      "313/313 - 1s - loss: 3312.3777 - mean_absolute_error: 3312.3777\n",
      "Epoch 22/50\n",
      "313/313 - 1s - loss: 3312.4553 - mean_absolute_error: 3312.4553\n",
      "Epoch 23/50\n",
      "313/313 - 1s - loss: 3309.9473 - mean_absolute_error: 3309.9473\n",
      "Epoch 24/50\n",
      "313/313 - 1s - loss: 3311.1577 - mean_absolute_error: 3311.1577\n",
      "Epoch 25/50\n",
      "313/313 - 1s - loss: 3308.7324 - mean_absolute_error: 3308.7324\n",
      "Epoch 26/50\n",
      "313/313 - 1s - loss: 3308.7043 - mean_absolute_error: 3308.7043\n",
      "Epoch 27/50\n",
      "313/313 - 1s - loss: 3304.2764 - mean_absolute_error: 3304.2764\n",
      "Epoch 28/50\n",
      "313/313 - 1s - loss: 3303.3511 - mean_absolute_error: 3303.3511\n",
      "Epoch 29/50\n",
      "313/313 - 1s - loss: 3304.5461 - mean_absolute_error: 3304.5461\n",
      "Epoch 30/50\n",
      "313/313 - 1s - loss: 3304.2925 - mean_absolute_error: 3304.2925\n",
      "Epoch 31/50\n",
      "313/313 - 1s - loss: 3300.2688 - mean_absolute_error: 3300.2688\n",
      "Epoch 32/50\n",
      "313/313 - 1s - loss: 3300.9397 - mean_absolute_error: 3300.9397\n",
      "Epoch 33/50\n",
      "313/313 - 1s - loss: 3296.3484 - mean_absolute_error: 3296.3484\n",
      "Epoch 34/50\n",
      "313/313 - 1s - loss: 3293.8743 - mean_absolute_error: 3293.8743\n",
      "Epoch 35/50\n",
      "313/313 - 1s - loss: 3291.7029 - mean_absolute_error: 3291.7029\n",
      "Epoch 36/50\n",
      "313/313 - 1s - loss: 3289.1055 - mean_absolute_error: 3289.1055\n",
      "Epoch 37/50\n",
      "313/313 - 1s - loss: 3287.0437 - mean_absolute_error: 3287.0437\n",
      "Epoch 38/50\n",
      "313/313 - 1s - loss: 3290.5979 - mean_absolute_error: 3290.5979\n",
      "Epoch 39/50\n",
      "313/313 - 1s - loss: 3284.5857 - mean_absolute_error: 3284.5857\n",
      "Epoch 40/50\n",
      "313/313 - 1s - loss: 3283.6592 - mean_absolute_error: 3283.6592\n",
      "Epoch 41/50\n",
      "313/313 - 1s - loss: 3284.5815 - mean_absolute_error: 3284.5815\n",
      "Epoch 42/50\n",
      "313/313 - 1s - loss: 3282.1404 - mean_absolute_error: 3282.1404\n",
      "Epoch 43/50\n",
      "313/313 - 1s - loss: 3277.7048 - mean_absolute_error: 3277.7048\n",
      "Epoch 44/50\n",
      "313/313 - 1s - loss: 3276.6531 - mean_absolute_error: 3276.6531\n",
      "Epoch 45/50\n",
      "313/313 - 1s - loss: 3275.6921 - mean_absolute_error: 3275.6921\n",
      "Epoch 46/50\n",
      "313/313 - 1s - loss: 3281.1711 - mean_absolute_error: 3281.1711\n",
      "Epoch 47/50\n",
      "313/313 - 1s - loss: 3274.9978 - mean_absolute_error: 3274.9978\n",
      "Epoch 48/50\n",
      "313/313 - 1s - loss: 3275.7349 - mean_absolute_error: 3275.7349\n",
      "Epoch 49/50\n",
      "313/313 - 1s - loss: 3271.9062 - mean_absolute_error: 3271.9062\n",
      "Epoch 50/50\n",
      "313/313 - 1s - loss: 3272.9878 - mean_absolute_error: 3272.9878\n"
     ]
    },
    {
     "data": {
      "text/plain": [
       "<keras.callbacks.History at 0x25464a69c70>"
      ]
     },
     "execution_count": 41,
     "metadata": {},
     "output_type": "execute_result"
    }
   ],
   "source": [
    "NN_model.fit(X_train_new, y_train, epochs=50, batch_size=32, verbose= 2)"
   ]
  },
  {
   "cell_type": "code",
   "execution_count": 42,
   "id": "f284aa2a",
   "metadata": {},
   "outputs": [
    {
     "name": "stdout",
     "output_type": "stream",
     "text": [
      "79/79 [==============================] - 1s 1ms/step - loss: 4104.3584 - mean_absolute_error: 4104.3584\n"
     ]
    },
    {
     "data": {
      "text/plain": [
       "[4104.3583984375, 4104.3583984375]"
      ]
     },
     "execution_count": 42,
     "metadata": {},
     "output_type": "execute_result"
    }
   ],
   "source": [
    "NN_model.evaluate(X_test_new, y_test)"
   ]
  },
  {
   "cell_type": "code",
   "execution_count": null,
   "id": "4c185eb1",
   "metadata": {},
   "outputs": [],
   "source": []
  },
  {
   "cell_type": "code",
   "execution_count": null,
   "id": "1885a4ed",
   "metadata": {},
   "outputs": [],
   "source": []
  },
  {
   "cell_type": "code",
   "execution_count": 43,
   "id": "f3dbd99b",
   "metadata": {},
   "outputs": [],
   "source": [
    "pickle.dump(dtree_model,open('models/dtree_model.pkl','wb'))"
   ]
  },
  {
   "cell_type": "code",
   "execution_count": 44,
   "id": "a6b88562",
   "metadata": {},
   "outputs": [],
   "source": [
    "pickle.dump(xgb_model,open('models/xgb_model.pkl','wb'))"
   ]
  },
  {
   "cell_type": "code",
   "execution_count": 45,
   "id": "e6559c20",
   "metadata": {},
   "outputs": [],
   "source": [
    "pickle.dump(sc,open('models/StandardScaler.pkl','wb'))"
   ]
  },
  {
   "cell_type": "code",
   "execution_count": 46,
   "id": "e46e13e8",
   "metadata": {},
   "outputs": [],
   "source": [
    "pickle.dump(ohe,open('models/OneHotEncoder.pkl','wb'))"
   ]
  },
  {
   "cell_type": "code",
   "execution_count": null,
   "id": "bf11377e",
   "metadata": {},
   "outputs": [],
   "source": []
  }
 ],
 "metadata": {
  "kernelspec": {
   "display_name": "Python 3",
   "language": "python",
   "name": "python3"
  },
  "language_info": {
   "codemirror_mode": {
    "name": "ipython",
    "version": 3
   },
   "file_extension": ".py",
   "mimetype": "text/x-python",
   "name": "python",
   "nbconvert_exporter": "python",
   "pygments_lexer": "ipython3",
   "version": "3.8.8"
  }
 },
 "nbformat": 4,
 "nbformat_minor": 5
}
