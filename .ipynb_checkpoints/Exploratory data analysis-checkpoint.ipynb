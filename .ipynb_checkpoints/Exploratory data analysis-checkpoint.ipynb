{
 "cells": [
  {
   "cell_type": "code",
   "execution_count": 1,
   "id": "1e5b523b",
   "metadata": {},
   "outputs": [],
   "source": [
    "import pandas as pd\n",
    "import numpy as np\n",
    "import seaborn as sns\n",
    "import math\n",
    "import os\n",
    "import matplotlib.pyplot as plt\n",
    "%matplotlib inline\n",
    "\n",
    "from scipy import stats\n",
    "from scipy.stats import zscore,norm,randint\n",
    "import warnings\n",
    "import warnings; warnings.filterwarnings('ignore')\n",
    "pd.set_option(\"display.max_columns\",None)"
   ]
  },
  {
   "cell_type": "code",
   "execution_count": 2,
   "id": "e873dc54",
   "metadata": {},
   "outputs": [
    {
     "data": {
      "text/html": [
       "<div>\n",
       "<style scoped>\n",
       "    .dataframe tbody tr th:only-of-type {\n",
       "        vertical-align: middle;\n",
       "    }\n",
       "\n",
       "    .dataframe tbody tr th {\n",
       "        vertical-align: top;\n",
       "    }\n",
       "\n",
       "    .dataframe thead th {\n",
       "        text-align: right;\n",
       "    }\n",
       "</style>\n",
       "<table border=\"1\" class=\"dataframe\">\n",
       "  <thead>\n",
       "    <tr style=\"text-align: right;\">\n",
       "      <th></th>\n",
       "      <th>airlines</th>\n",
       "      <th>Date</th>\n",
       "      <th>Month</th>\n",
       "      <th>Year</th>\n",
       "      <th>Weekday</th>\n",
       "      <th>Dep_Time</th>\n",
       "      <th>Ar_Time</th>\n",
       "      <th>depr_Citie</th>\n",
       "      <th>Ar_Citie</th>\n",
       "      <th>Travel_Time</th>\n",
       "      <th>Airline_Cabin</th>\n",
       "      <th>no_stops</th>\n",
       "      <th>Price</th>\n",
       "      <th>timestamp</th>\n",
       "      <th>avg_Price</th>\n",
       "      <th>min_Price</th>\n",
       "    </tr>\n",
       "  </thead>\n",
       "  <tbody>\n",
       "    <tr>\n",
       "      <th>0</th>\n",
       "      <td>IndiGo</td>\n",
       "      <td>1</td>\n",
       "      <td>1</td>\n",
       "      <td>2022</td>\n",
       "      <td>5</td>\n",
       "      <td>05:15</td>\n",
       "      <td>07:50</td>\n",
       "      <td>jaipur</td>\n",
       "      <td>Bengaluru</td>\n",
       "      <td>2h 35m</td>\n",
       "      <td>E</td>\n",
       "      <td>direct</td>\n",
       "      <td>7203</td>\n",
       "      <td>20211230-1158</td>\n",
       "      <td>7911.4</td>\n",
       "      <td>6203</td>\n",
       "    </tr>\n",
       "    <tr>\n",
       "      <th>1</th>\n",
       "      <td>IndiGo</td>\n",
       "      <td>1</td>\n",
       "      <td>1</td>\n",
       "      <td>2022</td>\n",
       "      <td>5</td>\n",
       "      <td>22:20</td>\n",
       "      <td>01:00</td>\n",
       "      <td>jaipur</td>\n",
       "      <td>Bengaluru</td>\n",
       "      <td>2h 40m</td>\n",
       "      <td>E</td>\n",
       "      <td>direct</td>\n",
       "      <td>7679</td>\n",
       "      <td>20211230-1158</td>\n",
       "      <td>7911.4</td>\n",
       "      <td>6203</td>\n",
       "    </tr>\n",
       "    <tr>\n",
       "      <th>2</th>\n",
       "      <td>IndiGo</td>\n",
       "      <td>1</td>\n",
       "      <td>1</td>\n",
       "      <td>2022</td>\n",
       "      <td>5</td>\n",
       "      <td>04:50</td>\n",
       "      <td>10:35</td>\n",
       "      <td>jaipur</td>\n",
       "      <td>Bengaluru</td>\n",
       "      <td>5h 45m</td>\n",
       "      <td>E</td>\n",
       "      <td>1 stop</td>\n",
       "      <td>7688</td>\n",
       "      <td>20211230-1158</td>\n",
       "      <td>7911.4</td>\n",
       "      <td>6203</td>\n",
       "    </tr>\n",
       "    <tr>\n",
       "      <th>3</th>\n",
       "      <td>IndiGo</td>\n",
       "      <td>1</td>\n",
       "      <td>1</td>\n",
       "      <td>2022</td>\n",
       "      <td>5</td>\n",
       "      <td>14:15</td>\n",
       "      <td>20:35</td>\n",
       "      <td>jaipur</td>\n",
       "      <td>Bengaluru</td>\n",
       "      <td>6h 20m</td>\n",
       "      <td>E</td>\n",
       "      <td>1 stop</td>\n",
       "      <td>7736</td>\n",
       "      <td>20211230-1158</td>\n",
       "      <td>7911.4</td>\n",
       "      <td>6203</td>\n",
       "    </tr>\n",
       "    <tr>\n",
       "      <th>4</th>\n",
       "      <td>IndiGo</td>\n",
       "      <td>1</td>\n",
       "      <td>1</td>\n",
       "      <td>2022</td>\n",
       "      <td>5</td>\n",
       "      <td>14:10</td>\n",
       "      <td>20:55</td>\n",
       "      <td>jaipur</td>\n",
       "      <td>Bengaluru</td>\n",
       "      <td>6h 45m</td>\n",
       "      <td>E</td>\n",
       "      <td>1 stop</td>\n",
       "      <td>7946</td>\n",
       "      <td>20211230-1158</td>\n",
       "      <td>7911.4</td>\n",
       "      <td>6203</td>\n",
       "    </tr>\n",
       "  </tbody>\n",
       "</table>\n",
       "</div>"
      ],
      "text/plain": [
       "  airlines  Date  Month  Year  Weekday Dep_Time Ar_Time depr_Citie   Ar_Citie  \\\n",
       "0   IndiGo     1      1  2022        5    05:15   07:50     jaipur  Bengaluru   \n",
       "1   IndiGo     1      1  2022        5    22:20   01:00     jaipur  Bengaluru   \n",
       "2   IndiGo     1      1  2022        5    04:50   10:35     jaipur  Bengaluru   \n",
       "3   IndiGo     1      1  2022        5    14:15   20:35     jaipur  Bengaluru   \n",
       "4   IndiGo     1      1  2022        5    14:10   20:55     jaipur  Bengaluru   \n",
       "\n",
       "  Travel_Time Airline_Cabin no_stops  Price      timestamp  avg_Price  \\\n",
       "0      2h 35m             E   direct   7203  20211230-1158     7911.4   \n",
       "1      2h 40m             E   direct   7679  20211230-1158     7911.4   \n",
       "2      5h 45m             E   1 stop   7688  20211230-1158     7911.4   \n",
       "3      6h 20m             E   1 stop   7736  20211230-1158     7911.4   \n",
       "4      6h 45m             E   1 stop   7946  20211230-1158     7911.4   \n",
       "\n",
       "   min_Price  \n",
       "0       6203  \n",
       "1       6203  \n",
       "2       6203  \n",
       "3       6203  \n",
       "4       6203  "
      ]
     },
     "execution_count": 2,
     "metadata": {},
     "output_type": "execute_result"
    }
   ],
   "source": [
    "df = pd.read_csv(\"flight_data.csv\")\n",
    "df.head()"
   ]
  },
  {
   "cell_type": "code",
   "execution_count": 3,
   "id": "ff59eb90",
   "metadata": {},
   "outputs": [
    {
     "data": {
      "text/plain": [
       "(12497, 16)"
      ]
     },
     "execution_count": 3,
     "metadata": {},
     "output_type": "execute_result"
    }
   ],
   "source": [
    "df.shape"
   ]
  },
  {
   "cell_type": "code",
   "execution_count": 4,
   "id": "a1d16510",
   "metadata": {},
   "outputs": [
    {
     "name": "stdout",
     "output_type": "stream",
     "text": [
      "<class 'pandas.core.frame.DataFrame'>\n",
      "RangeIndex: 12497 entries, 0 to 12496\n",
      "Data columns (total 16 columns):\n",
      " #   Column         Non-Null Count  Dtype  \n",
      "---  ------         --------------  -----  \n",
      " 0   airlines       12497 non-null  object \n",
      " 1   Date           12497 non-null  int64  \n",
      " 2   Month          12497 non-null  int64  \n",
      " 3   Year           12497 non-null  int64  \n",
      " 4   Weekday        12497 non-null  int64  \n",
      " 5   Dep_Time       12497 non-null  object \n",
      " 6   Ar_Time        12497 non-null  object \n",
      " 7   depr_Citie     12497 non-null  object \n",
      " 8   Ar_Citie       12497 non-null  object \n",
      " 9   Travel_Time    12497 non-null  object \n",
      " 10  Airline_Cabin  12497 non-null  object \n",
      " 11  no_stops       12497 non-null  object \n",
      " 12  Price          12497 non-null  int64  \n",
      " 13  timestamp      12497 non-null  object \n",
      " 14  avg_Price      12497 non-null  float64\n",
      " 15  min_Price      12497 non-null  int64  \n",
      "dtypes: float64(1), int64(6), object(9)\n",
      "memory usage: 1.5+ MB\n"
     ]
    }
   ],
   "source": [
    "df.info()"
   ]
  },
  {
   "cell_type": "code",
   "execution_count": 5,
   "id": "57a6ecb2",
   "metadata": {},
   "outputs": [
    {
     "data": {
      "text/html": [
       "<div>\n",
       "<style scoped>\n",
       "    .dataframe tbody tr th:only-of-type {\n",
       "        vertical-align: middle;\n",
       "    }\n",
       "\n",
       "    .dataframe tbody tr th {\n",
       "        vertical-align: top;\n",
       "    }\n",
       "\n",
       "    .dataframe thead th {\n",
       "        text-align: right;\n",
       "    }\n",
       "</style>\n",
       "<table border=\"1\" class=\"dataframe\">\n",
       "  <thead>\n",
       "    <tr style=\"text-align: right;\">\n",
       "      <th></th>\n",
       "      <th>airlines</th>\n",
       "      <th>Date</th>\n",
       "      <th>Month</th>\n",
       "      <th>Year</th>\n",
       "      <th>Weekday</th>\n",
       "      <th>Dep_Time</th>\n",
       "      <th>Ar_Time</th>\n",
       "      <th>depr_Citie</th>\n",
       "      <th>Ar_Citie</th>\n",
       "      <th>Travel_Time</th>\n",
       "      <th>Airline_Cabin</th>\n",
       "      <th>no_stops</th>\n",
       "      <th>Price</th>\n",
       "      <th>timestamp</th>\n",
       "      <th>avg_Price</th>\n",
       "      <th>min_Price</th>\n",
       "    </tr>\n",
       "  </thead>\n",
       "  <tbody>\n",
       "    <tr>\n",
       "      <th>count</th>\n",
       "      <td>12497</td>\n",
       "      <td>12497.000000</td>\n",
       "      <td>12497.000000</td>\n",
       "      <td>12497.0</td>\n",
       "      <td>12497.000000</td>\n",
       "      <td>12497</td>\n",
       "      <td>12497</td>\n",
       "      <td>12497</td>\n",
       "      <td>12497</td>\n",
       "      <td>12497</td>\n",
       "      <td>12497</td>\n",
       "      <td>12497</td>\n",
       "      <td>12497.000000</td>\n",
       "      <td>12497</td>\n",
       "      <td>12497.000000</td>\n",
       "      <td>12497.000000</td>\n",
       "    </tr>\n",
       "    <tr>\n",
       "      <th>unique</th>\n",
       "      <td>28</td>\n",
       "      <td>NaN</td>\n",
       "      <td>NaN</td>\n",
       "      <td>NaN</td>\n",
       "      <td>NaN</td>\n",
       "      <td>122</td>\n",
       "      <td>207</td>\n",
       "      <td>2</td>\n",
       "      <td>5</td>\n",
       "      <td>247</td>\n",
       "      <td>1</td>\n",
       "      <td>5</td>\n",
       "      <td>NaN</td>\n",
       "      <td>793</td>\n",
       "      <td>NaN</td>\n",
       "      <td>NaN</td>\n",
       "    </tr>\n",
       "    <tr>\n",
       "      <th>top</th>\n",
       "      <td>IndiGo</td>\n",
       "      <td>NaN</td>\n",
       "      <td>NaN</td>\n",
       "      <td>NaN</td>\n",
       "      <td>NaN</td>\n",
       "      <td>14:15</td>\n",
       "      <td>21:35</td>\n",
       "      <td>jaipur</td>\n",
       "      <td>mumbai</td>\n",
       "      <td>1h 00m</td>\n",
       "      <td>E</td>\n",
       "      <td>1 stop</td>\n",
       "      <td>NaN</td>\n",
       "      <td>20211229-2059</td>\n",
       "      <td>NaN</td>\n",
       "      <td>NaN</td>\n",
       "    </tr>\n",
       "    <tr>\n",
       "      <th>freq</th>\n",
       "      <td>5858</td>\n",
       "      <td>NaN</td>\n",
       "      <td>NaN</td>\n",
       "      <td>NaN</td>\n",
       "      <td>NaN</td>\n",
       "      <td>674</td>\n",
       "      <td>304</td>\n",
       "      <td>10034</td>\n",
       "      <td>2697</td>\n",
       "      <td>711</td>\n",
       "      <td>12497</td>\n",
       "      <td>7341</td>\n",
       "      <td>NaN</td>\n",
       "      <td>30</td>\n",
       "      <td>NaN</td>\n",
       "      <td>NaN</td>\n",
       "    </tr>\n",
       "    <tr>\n",
       "      <th>mean</th>\n",
       "      <td>NaN</td>\n",
       "      <td>15.668000</td>\n",
       "      <td>3.511163</td>\n",
       "      <td>2022.0</td>\n",
       "      <td>2.995359</td>\n",
       "      <td>NaN</td>\n",
       "      <td>NaN</td>\n",
       "      <td>NaN</td>\n",
       "      <td>NaN</td>\n",
       "      <td>NaN</td>\n",
       "      <td>NaN</td>\n",
       "      <td>NaN</td>\n",
       "      <td>6466.638073</td>\n",
       "      <td>NaN</td>\n",
       "      <td>6466.638073</td>\n",
       "      <td>2791.932704</td>\n",
       "    </tr>\n",
       "    <tr>\n",
       "      <th>std</th>\n",
       "      <td>NaN</td>\n",
       "      <td>8.698884</td>\n",
       "      <td>1.704824</td>\n",
       "      <td>0.0</td>\n",
       "      <td>2.025481</td>\n",
       "      <td>NaN</td>\n",
       "      <td>NaN</td>\n",
       "      <td>NaN</td>\n",
       "      <td>NaN</td>\n",
       "      <td>NaN</td>\n",
       "      <td>NaN</td>\n",
       "      <td>NaN</td>\n",
       "      <td>24429.783448</td>\n",
       "      <td>NaN</td>\n",
       "      <td>5821.276907</td>\n",
       "      <td>1032.310513</td>\n",
       "    </tr>\n",
       "    <tr>\n",
       "      <th>min</th>\n",
       "      <td>NaN</td>\n",
       "      <td>1.000000</td>\n",
       "      <td>1.000000</td>\n",
       "      <td>2022.0</td>\n",
       "      <td>0.000000</td>\n",
       "      <td>NaN</td>\n",
       "      <td>NaN</td>\n",
       "      <td>NaN</td>\n",
       "      <td>NaN</td>\n",
       "      <td>NaN</td>\n",
       "      <td>NaN</td>\n",
       "      <td>NaN</td>\n",
       "      <td>452.000000</td>\n",
       "      <td>NaN</td>\n",
       "      <td>2012.600000</td>\n",
       "      <td>452.000000</td>\n",
       "    </tr>\n",
       "    <tr>\n",
       "      <th>25%</th>\n",
       "      <td>NaN</td>\n",
       "      <td>8.000000</td>\n",
       "      <td>2.000000</td>\n",
       "      <td>2022.0</td>\n",
       "      <td>1.000000</td>\n",
       "      <td>NaN</td>\n",
       "      <td>NaN</td>\n",
       "      <td>NaN</td>\n",
       "      <td>NaN</td>\n",
       "      <td>NaN</td>\n",
       "      <td>NaN</td>\n",
       "      <td>NaN</td>\n",
       "      <td>2332.000000</td>\n",
       "      <td>NaN</td>\n",
       "      <td>2961.866667</td>\n",
       "      <td>1939.000000</td>\n",
       "    </tr>\n",
       "    <tr>\n",
       "      <th>50%</th>\n",
       "      <td>NaN</td>\n",
       "      <td>16.000000</td>\n",
       "      <td>3.000000</td>\n",
       "      <td>2022.0</td>\n",
       "      <td>3.000000</td>\n",
       "      <td>NaN</td>\n",
       "      <td>NaN</td>\n",
       "      <td>NaN</td>\n",
       "      <td>NaN</td>\n",
       "      <td>NaN</td>\n",
       "      <td>NaN</td>\n",
       "      <td>NaN</td>\n",
       "      <td>2965.000000</td>\n",
       "      <td>NaN</td>\n",
       "      <td>5807.733333</td>\n",
       "      <td>2668.000000</td>\n",
       "    </tr>\n",
       "    <tr>\n",
       "      <th>75%</th>\n",
       "      <td>NaN</td>\n",
       "      <td>23.000000</td>\n",
       "      <td>5.000000</td>\n",
       "      <td>2022.0</td>\n",
       "      <td>5.000000</td>\n",
       "      <td>NaN</td>\n",
       "      <td>NaN</td>\n",
       "      <td>NaN</td>\n",
       "      <td>NaN</td>\n",
       "      <td>NaN</td>\n",
       "      <td>NaN</td>\n",
       "      <td>NaN</td>\n",
       "      <td>4006.000000</td>\n",
       "      <td>NaN</td>\n",
       "      <td>8111.266667</td>\n",
       "      <td>3238.000000</td>\n",
       "    </tr>\n",
       "    <tr>\n",
       "      <th>max</th>\n",
       "      <td>NaN</td>\n",
       "      <td>31.000000</td>\n",
       "      <td>6.000000</td>\n",
       "      <td>2022.0</td>\n",
       "      <td>6.000000</td>\n",
       "      <td>NaN</td>\n",
       "      <td>NaN</td>\n",
       "      <td>NaN</td>\n",
       "      <td>NaN</td>\n",
       "      <td>NaN</td>\n",
       "      <td>NaN</td>\n",
       "      <td>NaN</td>\n",
       "      <td>773480.000000</td>\n",
       "      <td>NaN</td>\n",
       "      <td>59491.533333</td>\n",
       "      <td>7628.000000</td>\n",
       "    </tr>\n",
       "  </tbody>\n",
       "</table>\n",
       "</div>"
      ],
      "text/plain": [
       "       airlines          Date         Month     Year       Weekday Dep_Time  \\\n",
       "count     12497  12497.000000  12497.000000  12497.0  12497.000000    12497   \n",
       "unique       28           NaN           NaN      NaN           NaN      122   \n",
       "top      IndiGo           NaN           NaN      NaN           NaN    14:15   \n",
       "freq       5858           NaN           NaN      NaN           NaN      674   \n",
       "mean        NaN     15.668000      3.511163   2022.0      2.995359      NaN   \n",
       "std         NaN      8.698884      1.704824      0.0      2.025481      NaN   \n",
       "min         NaN      1.000000      1.000000   2022.0      0.000000      NaN   \n",
       "25%         NaN      8.000000      2.000000   2022.0      1.000000      NaN   \n",
       "50%         NaN     16.000000      3.000000   2022.0      3.000000      NaN   \n",
       "75%         NaN     23.000000      5.000000   2022.0      5.000000      NaN   \n",
       "max         NaN     31.000000      6.000000   2022.0      6.000000      NaN   \n",
       "\n",
       "       Ar_Time depr_Citie Ar_Citie Travel_Time Airline_Cabin no_stops  \\\n",
       "count    12497      12497    12497       12497         12497    12497   \n",
       "unique     207          2        5         247             1        5   \n",
       "top      21:35     jaipur   mumbai      1h 00m             E   1 stop   \n",
       "freq       304      10034     2697         711         12497     7341   \n",
       "mean       NaN        NaN      NaN         NaN           NaN      NaN   \n",
       "std        NaN        NaN      NaN         NaN           NaN      NaN   \n",
       "min        NaN        NaN      NaN         NaN           NaN      NaN   \n",
       "25%        NaN        NaN      NaN         NaN           NaN      NaN   \n",
       "50%        NaN        NaN      NaN         NaN           NaN      NaN   \n",
       "75%        NaN        NaN      NaN         NaN           NaN      NaN   \n",
       "max        NaN        NaN      NaN         NaN           NaN      NaN   \n",
       "\n",
       "                Price      timestamp     avg_Price     min_Price  \n",
       "count    12497.000000          12497  12497.000000  12497.000000  \n",
       "unique            NaN            793           NaN           NaN  \n",
       "top               NaN  20211229-2059           NaN           NaN  \n",
       "freq              NaN             30           NaN           NaN  \n",
       "mean      6466.638073            NaN   6466.638073   2791.932704  \n",
       "std      24429.783448            NaN   5821.276907   1032.310513  \n",
       "min        452.000000            NaN   2012.600000    452.000000  \n",
       "25%       2332.000000            NaN   2961.866667   1939.000000  \n",
       "50%       2965.000000            NaN   5807.733333   2668.000000  \n",
       "75%       4006.000000            NaN   8111.266667   3238.000000  \n",
       "max     773480.000000            NaN  59491.533333   7628.000000  "
      ]
     },
     "execution_count": 5,
     "metadata": {},
     "output_type": "execute_result"
    }
   ],
   "source": [
    "## Statical description\n",
    "df.describe(include=\"all\")"
   ]
  },
  {
   "cell_type": "code",
   "execution_count": 6,
   "id": "a39fa2aa",
   "metadata": {},
   "outputs": [
    {
     "data": {
      "text/plain": [
       "airlines         0\n",
       "Date             0\n",
       "Month            0\n",
       "Year             0\n",
       "Weekday          0\n",
       "Dep_Time         0\n",
       "Ar_Time          0\n",
       "depr_Citie       0\n",
       "Ar_Citie         0\n",
       "Travel_Time      0\n",
       "Airline_Cabin    0\n",
       "no_stops         0\n",
       "Price            0\n",
       "timestamp        0\n",
       "avg_Price        0\n",
       "min_Price        0\n",
       "dtype: int64"
      ]
     },
     "execution_count": 6,
     "metadata": {},
     "output_type": "execute_result"
    }
   ],
   "source": [
    "# Check missing values in the dataframe\n",
    "df.isnull().sum()"
   ]
  },
  {
   "cell_type": "code",
   "execution_count": 7,
   "id": "3e7c8e4c",
   "metadata": {},
   "outputs": [
    {
     "data": {
      "text/plain": [
       "6    1883\n",
       "0    1875\n",
       "4    1802\n",
       "2    1790\n",
       "1    1755\n",
       "5    1708\n",
       "3    1684\n",
       "Name: Weekday, dtype: int64"
      ]
     },
     "execution_count": 7,
     "metadata": {},
     "output_type": "execute_result"
    }
   ],
   "source": [
    "df[\"Weekday\"].value_counts()"
   ]
  },
  {
   "cell_type": "code",
   "execution_count": 8,
   "id": "fc6494c0",
   "metadata": {},
   "outputs": [
    {
     "data": {
      "text/plain": [
       "3    2205\n",
       "5    2141\n",
       "6    2079\n",
       "1    2079\n",
       "4    2010\n",
       "2    1983\n",
       "Name: Month, dtype: int64"
      ]
     },
     "execution_count": 8,
     "metadata": {},
     "output_type": "execute_result"
    }
   ],
   "source": [
    "df[\"Month\"].value_counts()"
   ]
  },
  {
   "cell_type": "code",
   "execution_count": 9,
   "id": "8d66afb8",
   "metadata": {},
   "outputs": [
    {
     "data": {
      "text/plain": [
       "2022    12497\n",
       "Name: Year, dtype: int64"
      ]
     },
     "execution_count": 9,
     "metadata": {},
     "output_type": "execute_result"
    }
   ],
   "source": [
    "df[\"Year\"].value_counts()"
   ]
  },
  {
   "cell_type": "code",
   "execution_count": null,
   "id": "8cad1fb0",
   "metadata": {},
   "outputs": [],
   "source": []
  },
  {
   "cell_type": "code",
   "execution_count": 10,
   "id": "5a74ec86",
   "metadata": {},
   "outputs": [
    {
     "data": {
      "text/plain": [
       "IndiGo                        5858\n",
       "Air India                     2389\n",
       "GoFirst                       2189\n",
       "AirAsia India                 1201\n",
       "SpiceJet                       724\n",
       "Train                           20\n",
       "Vistara, Air India              19\n",
       "IndiGo, Vistara                 16\n",
       "Vistara, IndiGo                 11\n",
       "Vistara, AirAsia India          11\n",
       "AirAsia India, SpiceJet         10\n",
       "SpiceJet, IndiGo                10\n",
       "SpiceJet, Vistara                8\n",
       "AirAsia India, Vistara           6\n",
       "GoFirst, SpiceJet                4\n",
       "GoFirst, Air India               4\n",
       "SpiceJet, Alaska Seaplanes       3\n",
       "SpiceJet, GoFirst                2\n",
       "IndiGo, AirAsia India            2\n",
       "IndiGo, SpiceJet                 2\n",
       "AirAsia India, IndiGo            1\n",
       "Vistara, SpiceJet                1\n",
       "GoFirst, IndiGo                  1\n",
       "AirAsia India, GoFirst           1\n",
       "SpiceJet, Air India              1\n",
       "Air India, SpiceJet              1\n",
       "IndiGo, GoFirst                  1\n",
       "Multiple Airlines                1\n",
       "Name: airlines, dtype: int64"
      ]
     },
     "execution_count": 10,
     "metadata": {},
     "output_type": "execute_result"
    }
   ],
   "source": [
    "df[\"airlines\"].value_counts()"
   ]
  },
  {
   "cell_type": "code",
   "execution_count": 11,
   "id": "2778b72f",
   "metadata": {},
   "outputs": [
    {
     "data": {
      "text/plain": [
       "6    1883\n",
       "0    1875\n",
       "4    1802\n",
       "2    1790\n",
       "1    1755\n",
       "5    1708\n",
       "3    1684\n",
       "Name: Weekday, dtype: int64"
      ]
     },
     "execution_count": 11,
     "metadata": {},
     "output_type": "execute_result"
    }
   ],
   "source": [
    "df[\"Weekday\"].value_counts()"
   ]
  },
  {
   "cell_type": "code",
   "execution_count": 12,
   "id": "d199a97f",
   "metadata": {},
   "outputs": [
    {
     "data": {
      "text/plain": [
       "jaipur       10034\n",
       "Hyderabad     2463\n",
       "Name: depr_Citie, dtype: int64"
      ]
     },
     "execution_count": 12,
     "metadata": {},
     "output_type": "execute_result"
    }
   ],
   "source": [
    "df[\"depr_Citie\"].value_counts()"
   ]
  },
  {
   "cell_type": "code",
   "execution_count": 13,
   "id": "25a3fcbb",
   "metadata": {},
   "outputs": [
    {
     "data": {
      "text/plain": [
       "mumbai       2697\n",
       "new delhi    2673\n",
       "Jaipur       2463\n",
       "chennai      2418\n",
       "Bengaluru    2246\n",
       "Name: Ar_Citie, dtype: int64"
      ]
     },
     "execution_count": 13,
     "metadata": {},
     "output_type": "execute_result"
    }
   ],
   "source": [
    "df[\"Ar_Citie\"].value_counts()"
   ]
  },
  {
   "cell_type": "code",
   "execution_count": 14,
   "id": "fd01669c",
   "metadata": {},
   "outputs": [
    {
     "data": {
      "text/plain": [
       "1 stop      7341\n",
       "direct      4849\n",
       "2 stops      273\n",
       "1 change      22\n",
       "3 stops       12\n",
       "Name: no_stops, dtype: int64"
      ]
     },
     "execution_count": 14,
     "metadata": {},
     "output_type": "execute_result"
    }
   ],
   "source": [
    "df[\"no_stops\"].value_counts()"
   ]
  },
  {
   "cell_type": "code",
   "execution_count": 15,
   "id": "5a13c7bd",
   "metadata": {},
   "outputs": [
    {
     "data": {
      "image/png": "[encoded data removed]",
      "text/plain": [
       "<Figure size 432x288 with 1 Axes>"
      ]
     },
     "metadata": {
      "needs_background": "light"
     },
     "output_type": "display_data"
    }
   ],
   "source": [
    "sns.kdeplot(data=df['Price'], shade=True)\n",
    "plt.title('Distribution of Price')\n",
    "plt.show()"
   ]
  },
  {
   "cell_type": "code",
   "execution_count": 29,
   "id": "9261d422",
   "metadata": {},
   "outputs": [
    {
     "data": {
      "text/plain": [
       "773480"
      ]
     },
     "execution_count": 29,
     "metadata": {},
     "output_type": "execute_result"
    }
   ],
   "source": [
    "df[\"Price\"].max()"
   ]
  },
  {
   "cell_type": "code",
   "execution_count": 53,
   "id": "f27c26f5",
   "metadata": {},
   "outputs": [
    {
     "data": {
      "image/png": "[encoded data removed]",
      "text/plain": [
       "<Figure size 432x288 with 1 Axes>"
      ]
     },
     "metadata": {
      "needs_background": "light"
     },
     "output_type": "display_data"
    },
    {
     "data": {
      "image/png": "[encoded data removed]",
      "text/plain": [
       "<Figure size 432x288 with 1 Axes>"
      ]
     },
     "metadata": {
      "needs_background": "light"
     },
     "output_type": "display_data"
    },
    {
     "data": {
      "image/png": "[encoded data removed]",
      "text/plain": [
       "<Figure size 432x288 with 1 Axes>"
      ]
     },
     "metadata": {
      "needs_background": "light"
     },
     "output_type": "display_data"
    }
   ],
   "source": [
    "### Finding out the relationship between categorical features and Price ticket\n",
    "\n",
    "cat_feats = [\"Weekday\",\"Month\",\"depr_Citie\"]\n",
    "\n",
    "for feat in cat_feats:\n",
    "\n",
    "    sns.countplot(x=feat,data=df,palette=\"Set1\")\n",
    "\n",
    "    #Rotate x-labels\n",
    "    plt.xticks(rotation=45)   \n",
    "    plt.xlabel(feat)\n",
    "    plt.ylabel('count')\n",
    "    plt.title(feat)\n",
    "    plt.show()"
   ]
  },
  {
   "cell_type": "code",
   "execution_count": 50,
   "id": "81d8ca83",
   "metadata": {},
   "outputs": [
    {
     "data": {
      "image/png": "[encoded data removed]",
      "text/plain": [
       "<Figure size 1080x432 with 1 Axes>"
      ]
     },
     "metadata": {},
     "output_type": "display_data"
    }
   ],
   "source": [
    "labels= df['airlines'].value_counts().index[0:5]\n",
    "df['airlines'].astype(str).value_counts()[0:5].plot(kind='pie',\n",
    "                                               figsize=(15,6),\n",
    "                                               autopct='%1.1f%%',\n",
    "                                               startangle=90,\n",
    "                                               shadow=True,\n",
    "                                               labels=None)\n",
    "plt.title('Distribution of Employee Attrition in the Company',y=1.12)\n",
    "plt.axis('equal')\n",
    "# add Legend\n",
    "plt.legend(labels=labels,loc='upper right')\n",
    "#show plot\n",
    "plt.show()"
   ]
  },
  {
   "cell_type": "code",
   "execution_count": 18,
   "id": "93d984df",
   "metadata": {},
   "outputs": [
    {
     "data": {
      "image/png": "[encoded data removed]",
      "text/plain": [
       "<Figure size 720x720 with 2 Axes>"
      ]
     },
     "metadata": {
      "needs_background": "light"
     },
     "output_type": "display_data"
    }
   ],
   "source": [
    "price = df[\"Price\"]\n",
    "filtered = price[~is_outlier(price)]\n",
    "\n",
    "# Plot the results\n",
    "fig, (ax1, ax2) = plt.subplots(nrows=2, figsize=(10,10))\n",
    "\n",
    "ax1.boxplot(price)\n",
    "ax1.set_title('Original Price')\n",
    "\n",
    "ax2.boxplot(filtered)\n",
    "ax2.set_title('Price Without Outliers')\n",
    "\n",
    "plt.show()"
   ]
  },
  {
   "cell_type": "code",
   "execution_count": 54,
   "id": "e487ab10",
   "metadata": {},
   "outputs": [
    {
     "data": {
      "text/plain": [
       "(array([   0.,  500., 1000., 1500., 2000., 2500., 3000., 3500.]),\n",
       " <a list of 8 Text major ticklabel objects>)"
      ]
     },
     "execution_count": 54,
     "metadata": {},
     "output_type": "execute_result"
    },
    {
     "data": {
      "image/png": "[encoded data removed]",
      "text/plain": [
       "<Figure size 432x288 with 1 Axes>"
      ]
     },
     "metadata": {
      "needs_background": "light"
     },
     "output_type": "display_data"
    }
   ],
   "source": [
    "# Visualizing Relationship between Price & depr_Citie.\n",
    "\n",
    "sns.barplot(x=\"Price\", y=\"depr_Citie\",data=df,estimator=np.median)\n",
    "plt.xticks(rotation=90)"
   ]
  },
  {
   "cell_type": "code",
   "execution_count": 55,
   "id": "0d1eb997",
   "metadata": {},
   "outputs": [
    {
     "data": {
      "text/plain": [
       "(array([0, 1, 2, 3, 4]), <a list of 5 Text major ticklabel objects>)"
      ]
     },
     "execution_count": 55,
     "metadata": {},
     "output_type": "execute_result"
    },
    {
     "data": {
      "image/png": "[encoded data removed]",
      "text/plain": [
       "<Figure size 432x288 with 1 Axes>"
      ]
     },
     "metadata": {
      "needs_background": "light"
     },
     "output_type": "display_data"
    }
   ],
   "source": [
    "# Visualizing Relationship between Price & Ar_Citie.\n",
    "\n",
    "sns.barplot(x=\"Ar_Citie\", y=\"Price\",data=df,estimator=np.median)\n",
    "plt.xticks(rotation=45)"
   ]
  },
  {
   "cell_type": "code",
   "execution_count": 57,
   "id": "4fefff0e",
   "metadata": {},
   "outputs": [
    {
     "data": {
      "text/plain": [
       "<matplotlib.axes._subplots.AxesSubplot at 0x1ba48195e80>"
      ]
     },
     "execution_count": 57,
     "metadata": {},
     "output_type": "execute_result"
    },
    {
     "data": {
      "image/png": "[encoded data removed]",
      "text/plain": [
       "<Figure size 1224x936 with 2 Axes>"
      ]
     },
     "metadata": {
      "needs_background": "light"
     },
     "output_type": "display_data"
    }
   ],
   "source": [
    "import seaborn as sns\n",
    "\n",
    "corr = df.drop(labels=['Year'], axis= 1).corr()\n",
    "mask = np.triu(np.ones_like(corr, dtype=bool))\n",
    "\n",
    "f, ax = plt.subplots(figsize=(17, 13))\n",
    "cmap = sns.diverging_palette(235, 20, as_cmap=True)\n",
    "\n",
    "sns.heatmap(corr, mask=mask, cmap=cmap, center=0, vmax=1.0, vmin=-1.0,\n",
    "           square=True, linewidths=.5, annot=True, fmt='.2f', cbar_kws={'shrink': .5})"
   ]
  },
  {
   "cell_type": "code",
   "execution_count": 59,
   "id": "ee73c142",
   "metadata": {},
   "outputs": [
    {
     "data": {
      "text/plain": [
       "<matplotlib.axes._subplots.AxesSubplot at 0x1ba4ccf27f0>"
      ]
     },
     "execution_count": 59,
     "metadata": {},
     "output_type": "execute_result"
    },
    {
     "data": {
      "image/png": "[encoded data removed]",
      "text/plain": [
       "<Figure size 432x288 with 2 Axes>"
      ]
     },
     "metadata": {
      "needs_background": "light"
     },
     "output_type": "display_data"
    }
   ],
   "source": [
    "corr = df.drop(labels=['Year'], axis= 1).corr()\n",
    "mask = np.zeros_like(corr, dtype = np.bool)\n",
    "mask[np.triu_indices_from(mask)] = True\n",
    "sns.heatmap(corr, mask = mask,  linewidths = .5 )#, annot = True)"
   ]
  },
  {
   "cell_type": "code",
   "execution_count": null,
   "id": "66751b5e",
   "metadata": {},
   "outputs": [],
   "source": [
    "import gif# settings\n",
    "plt.style.use(\"seaborn\")\n",
    "gif.options.matplotlib[\"dpi\"] = 300"
   ]
  },
  {
   "cell_type": "code",
   "execution_count": 62,
   "id": "402f179b",
   "metadata": {},
   "outputs": [
    {
     "data": {
      "text/html": [
       "<div>\n",
       "<style scoped>\n",
       "    .dataframe tbody tr th:only-of-type {\n",
       "        vertical-align: middle;\n",
       "    }\n",
       "\n",
       "    .dataframe tbody tr th {\n",
       "        vertical-align: top;\n",
       "    }\n",
       "\n",
       "    .dataframe thead th {\n",
       "        text-align: right;\n",
       "    }\n",
       "</style>\n",
       "<table border=\"1\" class=\"dataframe\">\n",
       "  <thead>\n",
       "    <tr style=\"text-align: right;\">\n",
       "      <th></th>\n",
       "      <th>airlines</th>\n",
       "      <th>Date</th>\n",
       "      <th>Month</th>\n",
       "      <th>Year</th>\n",
       "      <th>Weekday</th>\n",
       "      <th>Dep_Time</th>\n",
       "      <th>Ar_Time</th>\n",
       "      <th>depr_Citie</th>\n",
       "      <th>Ar_Citie</th>\n",
       "      <th>Travel_Time</th>\n",
       "      <th>Airline_Cabin</th>\n",
       "      <th>no_stops</th>\n",
       "      <th>Price</th>\n",
       "      <th>timestamp</th>\n",
       "      <th>avg_Price</th>\n",
       "      <th>min_Price</th>\n",
       "    </tr>\n",
       "  </thead>\n",
       "  <tbody>\n",
       "    <tr>\n",
       "      <th>0</th>\n",
       "      <td>IndiGo</td>\n",
       "      <td>1</td>\n",
       "      <td>1</td>\n",
       "      <td>2022</td>\n",
       "      <td>5</td>\n",
       "      <td>05:15</td>\n",
       "      <td>07:50</td>\n",
       "      <td>jaipur</td>\n",
       "      <td>Bengaluru</td>\n",
       "      <td>2h 35m</td>\n",
       "      <td>E</td>\n",
       "      <td>direct</td>\n",
       "      <td>7203</td>\n",
       "      <td>20211230-1158</td>\n",
       "      <td>7911.4</td>\n",
       "      <td>6203</td>\n",
       "    </tr>\n",
       "    <tr>\n",
       "      <th>1</th>\n",
       "      <td>IndiGo</td>\n",
       "      <td>1</td>\n",
       "      <td>1</td>\n",
       "      <td>2022</td>\n",
       "      <td>5</td>\n",
       "      <td>22:20</td>\n",
       "      <td>01:00</td>\n",
       "      <td>jaipur</td>\n",
       "      <td>Bengaluru</td>\n",
       "      <td>2h 40m</td>\n",
       "      <td>E</td>\n",
       "      <td>direct</td>\n",
       "      <td>7679</td>\n",
       "      <td>20211230-1158</td>\n",
       "      <td>7911.4</td>\n",
       "      <td>6203</td>\n",
       "    </tr>\n",
       "    <tr>\n",
       "      <th>2</th>\n",
       "      <td>IndiGo</td>\n",
       "      <td>1</td>\n",
       "      <td>1</td>\n",
       "      <td>2022</td>\n",
       "      <td>5</td>\n",
       "      <td>04:50</td>\n",
       "      <td>10:35</td>\n",
       "      <td>jaipur</td>\n",
       "      <td>Bengaluru</td>\n",
       "      <td>5h 45m</td>\n",
       "      <td>E</td>\n",
       "      <td>1 stop</td>\n",
       "      <td>7688</td>\n",
       "      <td>20211230-1158</td>\n",
       "      <td>7911.4</td>\n",
       "      <td>6203</td>\n",
       "    </tr>\n",
       "    <tr>\n",
       "      <th>3</th>\n",
       "      <td>IndiGo</td>\n",
       "      <td>1</td>\n",
       "      <td>1</td>\n",
       "      <td>2022</td>\n",
       "      <td>5</td>\n",
       "      <td>14:15</td>\n",
       "      <td>20:35</td>\n",
       "      <td>jaipur</td>\n",
       "      <td>Bengaluru</td>\n",
       "      <td>6h 20m</td>\n",
       "      <td>E</td>\n",
       "      <td>1 stop</td>\n",
       "      <td>7736</td>\n",
       "      <td>20211230-1158</td>\n",
       "      <td>7911.4</td>\n",
       "      <td>6203</td>\n",
       "    </tr>\n",
       "    <tr>\n",
       "      <th>4</th>\n",
       "      <td>IndiGo</td>\n",
       "      <td>1</td>\n",
       "      <td>1</td>\n",
       "      <td>2022</td>\n",
       "      <td>5</td>\n",
       "      <td>14:10</td>\n",
       "      <td>20:55</td>\n",
       "      <td>jaipur</td>\n",
       "      <td>Bengaluru</td>\n",
       "      <td>6h 45m</td>\n",
       "      <td>E</td>\n",
       "      <td>1 stop</td>\n",
       "      <td>7946</td>\n",
       "      <td>20211230-1158</td>\n",
       "      <td>7911.4</td>\n",
       "      <td>6203</td>\n",
       "    </tr>\n",
       "  </tbody>\n",
       "</table>\n",
       "</div>"
      ],
      "text/plain": [
       "  airlines  Date  Month  Year  Weekday Dep_Time Ar_Time depr_Citie   Ar_Citie  \\\n",
       "0   IndiGo     1      1  2022        5    05:15   07:50     jaipur  Bengaluru   \n",
       "1   IndiGo     1      1  2022        5    22:20   01:00     jaipur  Bengaluru   \n",
       "2   IndiGo     1      1  2022        5    04:50   10:35     jaipur  Bengaluru   \n",
       "3   IndiGo     1      1  2022        5    14:15   20:35     jaipur  Bengaluru   \n",
       "4   IndiGo     1      1  2022        5    14:10   20:55     jaipur  Bengaluru   \n",
       "\n",
       "  Travel_Time Airline_Cabin no_stops  Price      timestamp  avg_Price  \\\n",
       "0      2h 35m             E   direct   7203  20211230-1158     7911.4   \n",
       "1      2h 40m             E   direct   7679  20211230-1158     7911.4   \n",
       "2      5h 45m             E   1 stop   7688  20211230-1158     7911.4   \n",
       "3      6h 20m             E   1 stop   7736  20211230-1158     7911.4   \n",
       "4      6h 45m             E   1 stop   7946  20211230-1158     7911.4   \n",
       "\n",
       "   min_Price  \n",
       "0       6203  \n",
       "1       6203  \n",
       "2       6203  \n",
       "3       6203  \n",
       "4       6203  "
      ]
     },
     "execution_count": 62,
     "metadata": {},
     "output_type": "execute_result"
    }
   ],
   "source": [
    "df.head()"
   ]
  },
  {
   "cell_type": "code",
   "execution_count": null,
   "id": "2e4a13b2",
   "metadata": {},
   "outputs": [],
   "source": []
  }
 ],
 "metadata": {
  "kernelspec": {
   "display_name": "Python 3",
   "language": "python",
   "name": "python3"
  },
  "language_info": {
   "codemirror_mode": {
    "name": "ipython",
    "version": 3
   },
   "file_extension": ".py",
   "mimetype": "text/x-python",
   "name": "python",
   "nbconvert_exporter": "python",
   "pygments_lexer": "ipython3",
   "version": "3.8.8"
  }
 },
 "nbformat": 4,
 "nbformat_minor": 5
}
