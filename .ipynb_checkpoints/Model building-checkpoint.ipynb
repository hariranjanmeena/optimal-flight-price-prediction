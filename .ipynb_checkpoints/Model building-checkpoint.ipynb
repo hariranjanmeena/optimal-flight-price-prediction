{
 "cells": [
  {
   "cell_type": "code",
   "execution_count": 5,
   "id": "f782de55",
   "metadata": {},
   "outputs": [],
   "source": [
    "import pickle"
   ]
  },
  {
   "cell_type": "code",
   "execution_count": 6,
   "id": "a5bf79ba",
   "metadata": {},
   "outputs": [],
   "source": [
    "import pandas as pd\n",
    "import matplotlib.pyplot as plt\n",
    "import numpy as np"
   ]
  },
  {
   "cell_type": "code",
   "execution_count": 7,
   "id": "3650ef51",
   "metadata": {},
   "outputs": [
    {
     "data": {
      "text/html": [
       "<div>\n",
       "<style scoped>\n",
       "    .dataframe tbody tr th:only-of-type {\n",
       "        vertical-align: middle;\n",
       "    }\n",
       "\n",
       "    .dataframe tbody tr th {\n",
       "        vertical-align: top;\n",
       "    }\n",
       "\n",
       "    .dataframe thead th {\n",
       "        text-align: right;\n",
       "    }\n",
       "</style>\n",
       "<table border=\"1\" class=\"dataframe\">\n",
       "  <thead>\n",
       "    <tr style=\"text-align: right;\">\n",
       "      <th></th>\n",
       "      <th>airlines</th>\n",
       "      <th>Date</th>\n",
       "      <th>Month</th>\n",
       "      <th>Weekday</th>\n",
       "      <th>depr_Citie</th>\n",
       "      <th>Ar_Citie</th>\n",
       "      <th>Travel_Time</th>\n",
       "      <th>no_stops</th>\n",
       "      <th>Price</th>\n",
       "      <th>avg_Price</th>\n",
       "      <th>min_Price</th>\n",
       "      <th>Dep_Time_hr</th>\n",
       "      <th>Dep_Time_min</th>\n",
       "      <th>Ar_Time_hr</th>\n",
       "      <th>Ar_Time_min</th>\n",
       "      <th>time_differ_min</th>\n",
       "    </tr>\n",
       "  </thead>\n",
       "  <tbody>\n",
       "    <tr>\n",
       "      <th>0</th>\n",
       "      <td>IndiGo</td>\n",
       "      <td>1</td>\n",
       "      <td>1</td>\n",
       "      <td>5</td>\n",
       "      <td>jaipur</td>\n",
       "      <td>Bengaluru</td>\n",
       "      <td>155</td>\n",
       "      <td>0</td>\n",
       "      <td>7203</td>\n",
       "      <td>7911.4</td>\n",
       "      <td>6203</td>\n",
       "      <td>5</td>\n",
       "      <td>15</td>\n",
       "      <td>7</td>\n",
       "      <td>50</td>\n",
       "      <td>2237</td>\n",
       "    </tr>\n",
       "    <tr>\n",
       "      <th>1</th>\n",
       "      <td>IndiGo</td>\n",
       "      <td>1</td>\n",
       "      <td>1</td>\n",
       "      <td>5</td>\n",
       "      <td>jaipur</td>\n",
       "      <td>Bengaluru</td>\n",
       "      <td>160</td>\n",
       "      <td>0</td>\n",
       "      <td>7679</td>\n",
       "      <td>7911.4</td>\n",
       "      <td>6203</td>\n",
       "      <td>22</td>\n",
       "      <td>20</td>\n",
       "      <td>1</td>\n",
       "      <td>0</td>\n",
       "      <td>3262</td>\n",
       "    </tr>\n",
       "    <tr>\n",
       "      <th>2</th>\n",
       "      <td>IndiGo</td>\n",
       "      <td>1</td>\n",
       "      <td>1</td>\n",
       "      <td>5</td>\n",
       "      <td>jaipur</td>\n",
       "      <td>Bengaluru</td>\n",
       "      <td>345</td>\n",
       "      <td>1</td>\n",
       "      <td>7688</td>\n",
       "      <td>7911.4</td>\n",
       "      <td>6203</td>\n",
       "      <td>4</td>\n",
       "      <td>50</td>\n",
       "      <td>10</td>\n",
       "      <td>35</td>\n",
       "      <td>2212</td>\n",
       "    </tr>\n",
       "    <tr>\n",
       "      <th>3</th>\n",
       "      <td>IndiGo</td>\n",
       "      <td>1</td>\n",
       "      <td>1</td>\n",
       "      <td>5</td>\n",
       "      <td>jaipur</td>\n",
       "      <td>Bengaluru</td>\n",
       "      <td>380</td>\n",
       "      <td>1</td>\n",
       "      <td>7736</td>\n",
       "      <td>7911.4</td>\n",
       "      <td>6203</td>\n",
       "      <td>14</td>\n",
       "      <td>15</td>\n",
       "      <td>20</td>\n",
       "      <td>35</td>\n",
       "      <td>2777</td>\n",
       "    </tr>\n",
       "    <tr>\n",
       "      <th>4</th>\n",
       "      <td>IndiGo</td>\n",
       "      <td>1</td>\n",
       "      <td>1</td>\n",
       "      <td>5</td>\n",
       "      <td>jaipur</td>\n",
       "      <td>Bengaluru</td>\n",
       "      <td>405</td>\n",
       "      <td>1</td>\n",
       "      <td>7946</td>\n",
       "      <td>7911.4</td>\n",
       "      <td>6203</td>\n",
       "      <td>14</td>\n",
       "      <td>10</td>\n",
       "      <td>20</td>\n",
       "      <td>55</td>\n",
       "      <td>2772</td>\n",
       "    </tr>\n",
       "  </tbody>\n",
       "</table>\n",
       "</div>"
      ],
      "text/plain": [
       "  airlines  Date  Month  Weekday depr_Citie   Ar_Citie  Travel_Time  no_stops  \\\n",
       "0   IndiGo     1      1        5     jaipur  Bengaluru          155         0   \n",
       "1   IndiGo     1      1        5     jaipur  Bengaluru          160         0   \n",
       "2   IndiGo     1      1        5     jaipur  Bengaluru          345         1   \n",
       "3   IndiGo     1      1        5     jaipur  Bengaluru          380         1   \n",
       "4   IndiGo     1      1        5     jaipur  Bengaluru          405         1   \n",
       "\n",
       "   Price  avg_Price  min_Price  Dep_Time_hr  Dep_Time_min  Ar_Time_hr  \\\n",
       "0   7203     7911.4       6203            5            15           7   \n",
       "1   7679     7911.4       6203           22            20           1   \n",
       "2   7688     7911.4       6203            4            50          10   \n",
       "3   7736     7911.4       6203           14            15          20   \n",
       "4   7946     7911.4       6203           14            10          20   \n",
       "\n",
       "   Ar_Time_min  time_differ_min  \n",
       "0           50             2237  \n",
       "1            0             3262  \n",
       "2           35             2212  \n",
       "3           35             2777  \n",
       "4           55             2772  "
      ]
     },
     "execution_count": 7,
     "metadata": {},
     "output_type": "execute_result"
    }
   ],
   "source": [
    "df = pd.read_excel(\"Flight_new_Data.xls\")\n",
    "df.head()"
   ]
  },
  {
   "cell_type": "code",
   "execution_count": 8,
   "id": "3b638b01",
   "metadata": {},
   "outputs": [],
   "source": [
    "df.drop(labels= ['Ar_Time_min','Ar_Time_hr', 'avg_Price', 'min_Price'], axis = 1, inplace= True)"
   ]
  },
  {
   "cell_type": "code",
   "execution_count": 9,
   "id": "d32c9e1f",
   "metadata": {},
   "outputs": [],
   "source": [
    "X = df.drop(labels= ['Price'], axis= True)\n",
    "y = df[\"Price\"]"
   ]
  },
  {
   "cell_type": "code",
   "execution_count": 10,
   "id": "cafb6ec9",
   "metadata": {},
   "outputs": [],
   "source": [
    "discrete_features = X.dtypes == int"
   ]
  },
  {
   "cell_type": "code",
   "execution_count": 11,
   "id": "5b5d055c",
   "metadata": {},
   "outputs": [],
   "source": [
    "# Let us split our dataset into train & yest\n",
    "from sklearn.model_selection import train_test_split\n",
    "X_train, X_test, y_train, y_test = train_test_split(X, y, test_size=0.2 , random_state=100)"
   ]
  },
  {
   "cell_type": "code",
   "execution_count": 12,
   "id": "f6e043f6",
   "metadata": {},
   "outputs": [
    {
     "data": {
      "text/plain": [
       "((9997, 11), (2500, 11), (9997,), (2500,))"
      ]
     },
     "execution_count": 12,
     "metadata": {},
     "output_type": "execute_result"
    }
   ],
   "source": [
    "X_train.shape, X_test.shape, y_train.shape, y_test.shape"
   ]
  },
  {
   "cell_type": "code",
   "execution_count": 13,
   "id": "e9239b81",
   "metadata": {
    "scrolled": true
   },
   "outputs": [
    {
     "name": "stdout",
     "output_type": "stream",
     "text": [
      "Glimpse of Feature variables in train dataset - x_train:\n"
     ]
    },
    {
     "data": {
      "text/html": [
       "<div>\n",
       "<style scoped>\n",
       "    .dataframe tbody tr th:only-of-type {\n",
       "        vertical-align: middle;\n",
       "    }\n",
       "\n",
       "    .dataframe tbody tr th {\n",
       "        vertical-align: top;\n",
       "    }\n",
       "\n",
       "    .dataframe thead th {\n",
       "        text-align: right;\n",
       "    }\n",
       "</style>\n",
       "<table border=\"1\" class=\"dataframe\">\n",
       "  <thead>\n",
       "    <tr style=\"text-align: right;\">\n",
       "      <th></th>\n",
       "      <th>airlines</th>\n",
       "      <th>Date</th>\n",
       "      <th>Month</th>\n",
       "      <th>Weekday</th>\n",
       "      <th>depr_Citie</th>\n",
       "      <th>Ar_Citie</th>\n",
       "      <th>Travel_Time</th>\n",
       "      <th>no_stops</th>\n",
       "      <th>Dep_Time_hr</th>\n",
       "      <th>Dep_Time_min</th>\n",
       "      <th>time_differ_min</th>\n",
       "    </tr>\n",
       "  </thead>\n",
       "  <tbody>\n",
       "    <tr>\n",
       "      <th>1850</th>\n",
       "      <td>Air India</td>\n",
       "      <td>22</td>\n",
       "      <td>5</td>\n",
       "      <td>6</td>\n",
       "      <td>jaipur</td>\n",
       "      <td>Bengaluru</td>\n",
       "      <td>150</td>\n",
       "      <td>0</td>\n",
       "      <td>22</td>\n",
       "      <td>20</td>\n",
       "      <td>206006</td>\n",
       "    </tr>\n",
       "    <tr>\n",
       "      <th>1800</th>\n",
       "      <td>IndiGo</td>\n",
       "      <td>18</td>\n",
       "      <td>5</td>\n",
       "      <td>2</td>\n",
       "      <td>jaipur</td>\n",
       "      <td>Bengaluru</td>\n",
       "      <td>150</td>\n",
       "      <td>0</td>\n",
       "      <td>5</td>\n",
       "      <td>30</td>\n",
       "      <td>199241</td>\n",
       "    </tr>\n",
       "    <tr>\n",
       "      <th>6432</th>\n",
       "      <td>Air India</td>\n",
       "      <td>1</td>\n",
       "      <td>5</td>\n",
       "      <td>6</td>\n",
       "      <td>jaipur</td>\n",
       "      <td>new delhi</td>\n",
       "      <td>1270</td>\n",
       "      <td>2</td>\n",
       "      <td>14</td>\n",
       "      <td>0</td>\n",
       "      <td>175637</td>\n",
       "    </tr>\n",
       "    <tr>\n",
       "      <th>12453</th>\n",
       "      <td>IndiGo</td>\n",
       "      <td>28</td>\n",
       "      <td>6</td>\n",
       "      <td>1</td>\n",
       "      <td>jaipur</td>\n",
       "      <td>mumbai</td>\n",
       "      <td>595</td>\n",
       "      <td>1</td>\n",
       "      <td>21</td>\n",
       "      <td>5</td>\n",
       "      <td>260406</td>\n",
       "    </tr>\n",
       "    <tr>\n",
       "      <th>6225</th>\n",
       "      <td>GoFirst</td>\n",
       "      <td>17</td>\n",
       "      <td>4</td>\n",
       "      <td>6</td>\n",
       "      <td>jaipur</td>\n",
       "      <td>new delhi</td>\n",
       "      <td>430</td>\n",
       "      <td>1</td>\n",
       "      <td>18</td>\n",
       "      <td>45</td>\n",
       "      <td>155779</td>\n",
       "    </tr>\n",
       "  </tbody>\n",
       "</table>\n",
       "</div>"
      ],
      "text/plain": [
       "        airlines  Date  Month  Weekday depr_Citie   Ar_Citie  Travel_Time  \\\n",
       "1850   Air India    22      5        6     jaipur  Bengaluru          150   \n",
       "1800      IndiGo    18      5        2     jaipur  Bengaluru          150   \n",
       "6432   Air India     1      5        6     jaipur  new delhi         1270   \n",
       "12453     IndiGo    28      6        1     jaipur     mumbai          595   \n",
       "6225     GoFirst    17      4        6     jaipur  new delhi          430   \n",
       "\n",
       "       no_stops  Dep_Time_hr  Dep_Time_min  time_differ_min  \n",
       "1850          0           22            20           206006  \n",
       "1800          0            5            30           199241  \n",
       "6432          2           14             0           175637  \n",
       "12453         1           21             5           260406  \n",
       "6225          1           18            45           155779  "
      ]
     },
     "execution_count": 13,
     "metadata": {},
     "output_type": "execute_result"
    }
   ],
   "source": [
    "print(\"Glimpse of Feature variables in train dataset - x_train:\")\n",
    "X_train.head()"
   ]
  },
  {
   "cell_type": "code",
   "execution_count": 14,
   "id": "2e77d714",
   "metadata": {},
   "outputs": [
    {
     "data": {
      "text/plain": [
       "7"
      ]
     },
     "execution_count": 14,
     "metadata": {},
     "output_type": "execute_result"
    }
   ],
   "source": [
    "# let us select the numerical columns that need scaling\n",
    "num_col = ['Date', 'Month', 'Travel_Time',\n",
    "       'no_stops', 'Dep_Time_hr', 'Dep_Time_min', 'time_differ_min']\n",
    "len(num_col)"
   ]
  },
  {
   "cell_type": "code",
   "execution_count": 15,
   "id": "3e93dd94",
   "metadata": {},
   "outputs": [
    {
     "data": {
      "text/html": [
       "<div>\n",
       "<style scoped>\n",
       "    .dataframe tbody tr th:only-of-type {\n",
       "        vertical-align: middle;\n",
       "    }\n",
       "\n",
       "    .dataframe tbody tr th {\n",
       "        vertical-align: top;\n",
       "    }\n",
       "\n",
       "    .dataframe thead th {\n",
       "        text-align: right;\n",
       "    }\n",
       "</style>\n",
       "<table border=\"1\" class=\"dataframe\">\n",
       "  <thead>\n",
       "    <tr style=\"text-align: right;\">\n",
       "      <th></th>\n",
       "      <th>airlines</th>\n",
       "      <th>Date</th>\n",
       "      <th>Month</th>\n",
       "      <th>Weekday</th>\n",
       "      <th>depr_Citie</th>\n",
       "      <th>Ar_Citie</th>\n",
       "      <th>Travel_Time</th>\n",
       "      <th>no_stops</th>\n",
       "      <th>Dep_Time_hr</th>\n",
       "      <th>Dep_Time_min</th>\n",
       "      <th>time_differ_min</th>\n",
       "    </tr>\n",
       "  </thead>\n",
       "  <tbody>\n",
       "    <tr>\n",
       "      <th>1850</th>\n",
       "      <td>Air India</td>\n",
       "      <td>0.725405</td>\n",
       "      <td>0.874315</td>\n",
       "      <td>6</td>\n",
       "      <td>jaipur</td>\n",
       "      <td>Bengaluru</td>\n",
       "      <td>-0.711699</td>\n",
       "      <td>-1.199805</td>\n",
       "      <td>1.566054</td>\n",
       "      <td>-0.440420</td>\n",
       "      <td>1.003880</td>\n",
       "    </tr>\n",
       "    <tr>\n",
       "      <th>1800</th>\n",
       "      <td>IndiGo</td>\n",
       "      <td>0.266208</td>\n",
       "      <td>0.874315</td>\n",
       "      <td>2</td>\n",
       "      <td>jaipur</td>\n",
       "      <td>Bengaluru</td>\n",
       "      <td>-0.711699</td>\n",
       "      <td>-1.199805</td>\n",
       "      <td>-1.611204</td>\n",
       "      <td>0.177181</td>\n",
       "      <td>0.913610</td>\n",
       "    </tr>\n",
       "    <tr>\n",
       "      <th>6432</th>\n",
       "      <td>Air India</td>\n",
       "      <td>-1.685381</td>\n",
       "      <td>0.874315</td>\n",
       "      <td>6</td>\n",
       "      <td>jaipur</td>\n",
       "      <td>new delhi</td>\n",
       "      <td>2.152915</td>\n",
       "      <td>2.575596</td>\n",
       "      <td>0.070874</td>\n",
       "      <td>-1.675621</td>\n",
       "      <td>0.598645</td>\n",
       "    </tr>\n",
       "    <tr>\n",
       "      <th>12453</th>\n",
       "      <td>IndiGo</td>\n",
       "      <td>1.414201</td>\n",
       "      <td>1.459866</td>\n",
       "      <td>1</td>\n",
       "      <td>jaipur</td>\n",
       "      <td>mumbai</td>\n",
       "      <td>0.426473</td>\n",
       "      <td>0.687896</td>\n",
       "      <td>1.379157</td>\n",
       "      <td>-1.366821</td>\n",
       "      <td>1.729777</td>\n",
       "    </tr>\n",
       "    <tr>\n",
       "      <th>6225</th>\n",
       "      <td>GoFirst</td>\n",
       "      <td>0.151408</td>\n",
       "      <td>0.288763</td>\n",
       "      <td>6</td>\n",
       "      <td>jaipur</td>\n",
       "      <td>new delhi</td>\n",
       "      <td>0.004454</td>\n",
       "      <td>0.687896</td>\n",
       "      <td>0.818464</td>\n",
       "      <td>1.103582</td>\n",
       "      <td>0.333666</td>\n",
       "    </tr>\n",
       "  </tbody>\n",
       "</table>\n",
       "</div>"
      ],
      "text/plain": [
       "        airlines      Date     Month  Weekday depr_Citie   Ar_Citie  \\\n",
       "1850   Air India  0.725405  0.874315        6     jaipur  Bengaluru   \n",
       "1800      IndiGo  0.266208  0.874315        2     jaipur  Bengaluru   \n",
       "6432   Air India -1.685381  0.874315        6     jaipur  new delhi   \n",
       "12453     IndiGo  1.414201  1.459866        1     jaipur     mumbai   \n",
       "6225     GoFirst  0.151408  0.288763        6     jaipur  new delhi   \n",
       "\n",
       "       Travel_Time  no_stops  Dep_Time_hr  Dep_Time_min  time_differ_min  \n",
       "1850     -0.711699 -1.199805     1.566054     -0.440420         1.003880  \n",
       "1800     -0.711699 -1.199805    -1.611204      0.177181         0.913610  \n",
       "6432      2.152915  2.575596     0.070874     -1.675621         0.598645  \n",
       "12453     0.426473  0.687896     1.379157     -1.366821         1.729777  \n",
       "6225      0.004454  0.687896     0.818464      1.103582         0.333666  "
      ]
     },
     "execution_count": 15,
     "metadata": {},
     "output_type": "execute_result"
    }
   ],
   "source": [
    "\n",
    "# Import the StandardScaler()\n",
    "from sklearn.preprocessing import StandardScaler\n",
    "\n",
    "## Scaling the train and test data\n",
    "sc = StandardScaler()\n",
    "X_train[num_col] = sc.fit_transform(X_train[num_col])\n",
    "X_test[num_col] = sc.transform(X_test[num_col])\n",
    "X_train.head()"
   ]
  },
  {
   "cell_type": "code",
   "execution_count": 16,
   "id": "1be4357e",
   "metadata": {},
   "outputs": [],
   "source": [
    "from sklearn.preprocessing import OneHotEncoder\n",
    "\n",
    "ohe = OneHotEncoder(drop='first', sparse=False, dtype=np.int32)"
   ]
  },
  {
   "cell_type": "code",
   "execution_count": 17,
   "id": "5898ffc3",
   "metadata": {},
   "outputs": [],
   "source": [
    "X_train_ohe = ohe.fit_transform(X_train[['airlines', 'depr_Citie', 'Ar_Citie', 'Weekday']])\n",
    "X_test_ohe = ohe.transform(X_test[['airlines', 'depr_Citie', 'Ar_Citie', 'Weekday']])"
   ]
  },
  {
   "cell_type": "code",
   "execution_count": 18,
   "id": "9ad8d2cf",
   "metadata": {},
   "outputs": [
    {
     "data": {
      "text/plain": [
       "array([[0, 0, 0, ..., 0, 0, 1],\n",
       "       [0, 0, 1, ..., 0, 0, 0],\n",
       "       [0, 0, 0, ..., 0, 0, 1],\n",
       "       ...,\n",
       "       [0, 0, 1, ..., 1, 0, 0],\n",
       "       [0, 0, 1, ..., 0, 1, 0],\n",
       "       [0, 1, 0, ..., 0, 0, 0]])"
      ]
     },
     "execution_count": 18,
     "metadata": {},
     "output_type": "execute_result"
    }
   ],
   "source": [
    "X_train_ohe"
   ]
  },
  {
   "cell_type": "code",
   "execution_count": 19,
   "id": "503e0f2a",
   "metadata": {},
   "outputs": [
    {
     "data": {
      "text/plain": [
       "array([[ 0.72540521,  0.87431495, -0.71169931, ...,  1.56605421,\n",
       "        -0.44041976,  1.00387984],\n",
       "       [ 0.26620775,  0.87431495, -0.71169931, ..., -1.6112035 ,\n",
       "         0.17718107,  0.91360977],\n",
       "       [-1.68538146,  0.87431495,  2.15291503, ...,  0.07087411,\n",
       "        -1.67562143,  0.59864529],\n",
       "       ...,\n",
       "       [ 1.06980331, -0.88233941, -0.17458412, ..., -1.79810102,\n",
       "         0.17718107, -0.79805222],\n",
       "       [-1.34098337,  1.4598664 , -0.95467999, ..., -1.23740848,\n",
       "         0.48598149,  1.24625465],\n",
       "       [-0.76698654, -0.29678796, -0.02112264, ..., -1.05051097,\n",
       "         1.10358233, -0.42310784]])"
      ]
     },
     "execution_count": 19,
     "metadata": {},
     "output_type": "execute_result"
    }
   ],
   "source": [
    "X_train[num_col].values"
   ]
  },
  {
   "cell_type": "code",
   "execution_count": 20,
   "id": "a92754c5",
   "metadata": {},
   "outputs": [],
   "source": [
    "X_train_new = np.hstack((X_train[num_col].values, X_train_ohe))\n",
    "X_test_new = np.hstack((X_test[num_col].values, X_test_ohe))"
   ]
  },
  {
   "cell_type": "markdown",
   "id": "e63b759e",
   "metadata": {},
   "source": [
    "<a id='m7'></a>\n",
    "### <a> XGBoost Regression"
   ]
  },
  {
   "cell_type": "code",
   "execution_count": 21,
   "id": "33c84e45",
   "metadata": {
    "id": "ipd6-LCk0XwB"
   },
   "outputs": [],
   "source": [
    "from sklearn.model_selection import RandomizedSearchCV\n",
    "from sklearn.model_selection import KFold\n",
    "import xgboost\n",
    "\n",
    "xgb = xgboost.XGBRegressor(random_state=42,n_estimators=120)\n",
    "\n",
    "params = {\n",
    "    \"gamma\": [21,22],\n",
    "        \"max_depth\": [8,10],\n",
    "#         \"learning_rate\": [0.1,0.2],\n",
    "#         \"n_estimators\": [60],\n",
    "#         \"max_depth\": [13,14,15,16],\n",
    "        \"learning_rate\": [0.17,0.18,0.19,0.2],\n",
    "        \"child_weight\": [23,24],\n",
    "      }\n",
    "# max_depth, min_child_weight and gamma.\n",
    "\n",
    "# create 5 folds\n",
    "folds = KFold(n_splits = 5, shuffle = True, random_state = 4)\n",
    "\n",
    "xgb_model = RandomizedSearchCV(estimator=xgb, param_distributions=params, cv=folds, scoring = 'neg_mean_absolute_error',n_jobs = -1, \n",
    "                               verbose = 1, return_train_score = True, random_state=42)\n"
   ]
  },
  {
   "cell_type": "code",
   "execution_count": 22,
   "id": "07e17efa",
   "metadata": {
    "id": "_0gpF_nv0XwB",
    "outputId": "1a03fed4-d9cb-4501-cf3d-6ad91bc3de83",
    "scrolled": false
   },
   "outputs": [
    {
     "name": "stdout",
     "output_type": "stream",
     "text": [
      "Fitting 5 folds for each of 10 candidates, totalling 50 fits\n",
      "[10:48:25] WARNING: ..\\src\\learner.cc:541: \n",
      "Parameters: { child_weight } might not be used.\n",
      "\n",
      "  This may not be accurate due to some parameters are only used in language bindings but\n",
      "  passed down to XGBoost core.  Or some parameters are not used but slip through this\n",
      "  verification. Please open an issue if you find above cases.\n",
      "\n",
      "\n"
     ]
    },
    {
     "data": {
      "text/plain": [
       "RandomizedSearchCV(cv=KFold(n_splits=5, random_state=4, shuffle=True),\n",
       "                   estimator=XGBRegressor(base_score=None, booster=None,\n",
       "                                          colsample_bylevel=None,\n",
       "                                          colsample_bynode=None,\n",
       "                                          colsample_bytree=None, gamma=None,\n",
       "                                          gpu_id=None, importance_type='gain',\n",
       "                                          interaction_constraints=None,\n",
       "                                          learning_rate=None,\n",
       "                                          max_delta_step=None, max_depth=None,\n",
       "                                          min_child_weight=None, missing=nan,...\n",
       "                                          random_state=42, reg_alpha=None,\n",
       "                                          reg_lambda=None,\n",
       "                                          scale_pos_weight=None, subsample=None,\n",
       "                                          tree_method=None,\n",
       "                                          validate_parameters=None,\n",
       "                                          verbosity=None),\n",
       "                   n_jobs=-1,\n",
       "                   param_distributions={'child_weight': [23, 24],\n",
       "                                        'gamma': [21, 22],\n",
       "                                        'learning_rate': [0.17, 0.18, 0.19,\n",
       "                                                          0.2],\n",
       "                                        'max_depth': [8, 10]},\n",
       "                   random_state=42, return_train_score=True,\n",
       "                   scoring='neg_mean_absolute_error', verbose=1)"
      ]
     },
     "execution_count": 22,
     "metadata": {},
     "output_type": "execute_result"
    }
   ],
   "source": [
    "# fit model\n",
    "xgb_model.fit(X_train_new, y_train)"
   ]
  },
  {
   "cell_type": "code",
   "execution_count": 23,
   "id": "dd2997ba",
   "metadata": {
    "id": "JMotdlyj0XwB",
    "outputId": "7fbd4057-2443-46ff-9162-4c7c67bae8fb",
    "scrolled": true
   },
   "outputs": [
    {
     "data": {
      "text/plain": [
       "XGBRegressor(base_score=0.5, booster='gbtree', child_weight=24,\n",
       "             colsample_bylevel=1, colsample_bynode=1, colsample_bytree=1,\n",
       "             gamma=22, gpu_id=-1, importance_type='gain',\n",
       "             interaction_constraints='', learning_rate=0.17, max_delta_step=0,\n",
       "             max_depth=8, min_child_weight=1, missing=nan,\n",
       "             monotone_constraints='()', n_estimators=120, n_jobs=8,\n",
       "             num_parallel_tree=1, random_state=42, reg_alpha=0, reg_lambda=1,\n",
       "             scale_pos_weight=1, subsample=1, tree_method='exact',\n",
       "             validate_parameters=1, verbosity=None)"
      ]
     },
     "execution_count": 23,
     "metadata": {},
     "output_type": "execute_result"
    }
   ],
   "source": [
    "xgb_model.best_estimator_"
   ]
  },
  {
   "cell_type": "code",
   "execution_count": 24,
   "id": "123acbb7",
   "metadata": {
    "id": "NCkmzCQB0XwB"
   },
   "outputs": [],
   "source": [
    "y_train_pred = xgb_model.predict(X_train_new)\n",
    "y_test_pred = xgb_model.predict(X_test_new)"
   ]
  },
  {
   "cell_type": "code",
   "execution_count": 25,
   "id": "e31696e9",
   "metadata": {},
   "outputs": [],
   "source": [
    "from sklearn.metrics import mean_absolute_error, r2_score, mean_squared_error\n",
    "from math import sqrt"
   ]
  },
  {
   "cell_type": "code",
   "execution_count": 26,
   "id": "d4c976b6",
   "metadata": {
    "id": "TpZHXWaL0XwB"
   },
   "outputs": [],
   "source": [
    "train_mae = round(mean_absolute_error(y_train.values, y_train_pred),3)\n",
    "train_r2 = round(r2_score(y_train.values, y_train_pred),3)\n",
    "\n",
    "\n",
    "test_mae = round(mean_absolute_error(y_test.values, y_test_pred),3)\n",
    "test_r2 = round(r2_score(y_test.values, y_test_pred),3)"
   ]
  },
  {
   "cell_type": "code",
   "execution_count": 27,
   "id": "9d148afe",
   "metadata": {
    "id": "3de9cr_u0XwB",
    "outputId": "b3f904cf-38bc-4fe0-e3dd-fe8f9f1c153e",
    "scrolled": false
   },
   "outputs": [
    {
     "name": "stdout",
     "output_type": "stream",
     "text": [
      "Train Results for Xgboost Regressor Model:\n",
      "--------------------------------------------------\n",
      "Root mean squared error:  7261.434\n",
      "Mean absolute error:  2590.778\n",
      "Mean squared error:  52728420.725\n",
      "R-squared:  0.897\n"
     ]
    }
   ],
   "source": [
    "print(\"Train Results for Xgboost Regressor Model:\")\n",
    "print(50 * '-')\n",
    "print(\"Root mean squared error: \", round(sqrt(mean_squared_error(y_train.values, y_train_pred)),3))\n",
    "print(\"Mean absolute error: \",train_mae)\n",
    "print(\"Mean squared error: \",round(mean_squared_error(y_train.values, y_train_pred),3))\n",
    "print(\"R-squared: \", train_r2)"
   ]
  },
  {
   "cell_type": "code",
   "execution_count": 28,
   "id": "cfc8acfb",
   "metadata": {
    "id": "_r6_wyGi0XwB",
    "outputId": "ce6bdfa0-cb85-4680-c899-4afaf3fd8465",
    "scrolled": true
   },
   "outputs": [
    {
     "name": "stdout",
     "output_type": "stream",
     "text": [
      "Test Results for Xgboost Regressor Model:\n",
      "--------------------------------------------------\n",
      "Root mean squared error:  32141.974\n",
      "Mean absolute error:  6873.959\n",
      "Mean squared error:  1033106481.787\n",
      "R-squared:  -0.105\n"
     ]
    }
   ],
   "source": [
    "print(\"Test Results for Xgboost Regressor Model:\")\n",
    "print(50 * '-')\n",
    "print(\"Root mean squared error: \", round(sqrt(mean_squared_error(y_test.values, y_test_pred)),3))\n",
    "print(\"Mean absolute error: \",test_mae)\n",
    "print(\"Mean squared error: \",round(mean_squared_error(y_test.values, y_test_pred),3))\n",
    "print(\"R-squared: \", test_r2)"
   ]
  },
  {
   "cell_type": "code",
   "execution_count": 26,
   "id": "a6b88562",
   "metadata": {},
   "outputs": [],
   "source": [
    "pickle.dump(xgb_model,open('price_xgb_model.pkl','wb'))"
   ]
  },
  {
   "cell_type": "code",
   "execution_count": 27,
   "id": "e6559c20",
   "metadata": {},
   "outputs": [],
   "source": [
    "pickle.dump(sc,open('price_StandardScaler.pkl','wb'))"
   ]
  },
  {
   "cell_type": "code",
   "execution_count": 28,
   "id": "e46e13e8",
   "metadata": {},
   "outputs": [],
   "source": [
    "pickle.dump(ohe,open('OneHotEncoder.pkl','wb'))"
   ]
  },
  {
   "cell_type": "code",
   "execution_count": null,
   "id": "bf11377e",
   "metadata": {},
   "outputs": [],
   "source": []
  }
 ],
 "metadata": {
  "kernelspec": {
   "display_name": "Python 3",
   "language": "python",
   "name": "python3"
  },
  "language_info": {
   "codemirror_mode": {
    "name": "ipython",
    "version": 3
   },
   "file_extension": ".py",
   "mimetype": "text/x-python",
   "name": "python",
   "nbconvert_exporter": "python",
   "pygments_lexer": "ipython3",
   "version": "3.8.8"
  }
 },
 "nbformat": 4,
 "nbformat_minor": 5
}
