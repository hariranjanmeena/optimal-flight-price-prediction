{
 "cells": [
  {
   "cell_type": "code",
   "execution_count": 1,
   "id": "f60eedb0",
   "metadata": {},
   "outputs": [],
   "source": [
    "import pandas as pd"
   ]
  },
  {
   "cell_type": "code",
   "execution_count": 2,
   "id": "41eb2f12",
   "metadata": {},
   "outputs": [],
   "source": [
    "import os"
   ]
  },
  {
   "cell_type": "code",
   "execution_count": 3,
   "id": "9c0d9637",
   "metadata": {},
   "outputs": [],
   "source": [
    "Classes = os.listdir('data/')"
   ]
  },
  {
   "cell_type": "code",
   "execution_count": 4,
   "id": "a68b05fd",
   "metadata": {},
   "outputs": [
    {
     "data": {
      "text/plain": [
       "['jaipur-chennai', 'jaipur-delhi', 'jaipur-mumbai']"
      ]
     },
     "execution_count": 4,
     "metadata": {},
     "output_type": "execute_result"
    }
   ],
   "source": [
    "Classes"
   ]
  },
  {
   "cell_type": "code",
   "execution_count": 7,
   "id": "179b598e",
   "metadata": {},
   "outputs": [
    {
     "name": "stdout",
     "output_type": "stream",
     "text": [
      "pass jaipur-chennai\n",
      "pass jaipur-delhi\n",
      "pass jaipur-mumbai\n"
     ]
    }
   ],
   "source": [
    "for folder in Classes:\n",
    "    # List of Files in old Folder\n",
    "    files = os.listdir(f'Data/{folder}')\n",
    "    print(\"pass\",folder)\n",
    "    \n",
    "        "
   ]
  },
  {
   "cell_type": "code",
   "execution_count": 9,
   "id": "3b5dc5fe",
   "metadata": {},
   "outputs": [],
   "source": [
    "combined_csv = pd.concat([pd.read_csv(f'data/jaipur-mumbai/{f}') for f in files ])"
   ]
  },
  {
   "cell_type": "code",
   "execution_count": null,
   "id": "fa4b446b",
   "metadata": {},
   "outputs": [],
   "source": []
  }
 ],
 "metadata": {
  "kernelspec": {
   "display_name": "Python 3",
   "language": "python",
   "name": "python3"
  },
  "language_info": {
   "codemirror_mode": {
    "name": "ipython",
    "version": 3
   },
   "file_extension": ".py",
   "mimetype": "text/x-python",
   "name": "python",
   "nbconvert_exporter": "python",
   "pygments_lexer": "ipython3",
   "version": "3.8.8"
  }
 },
 "nbformat": 4,
 "nbformat_minor": 5
}
